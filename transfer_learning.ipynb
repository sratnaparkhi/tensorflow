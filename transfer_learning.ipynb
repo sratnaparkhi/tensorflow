{
  "nbformat": 4,
  "nbformat_minor": 0,
  "metadata": {
    "colab": {
      "name": "transfer learning.ipynb",
      "provenance": [],
      "authorship_tag": "ABX9TyMkS1FAjZE94Up1/n8KP3i3",
      "include_colab_link": true
    },
    "kernelspec": {
      "name": "python3",
      "display_name": "Python 3"
    },
    "language_info": {
      "name": "python"
    },
    "accelerator": "GPU"
  },
  "cells": [
    {
      "cell_type": "markdown",
      "metadata": {
        "id": "view-in-github",
        "colab_type": "text"
      },
      "source": [
        "<a href=\"https://colab.research.google.com/github/sratnaparkhi/tensorflow/blob/main/transfer_learning.ipynb\" target=\"_parent\"><img src=\"https://colab.research.google.com/assets/colab-badge.svg\" alt=\"Open In Colab\"/></a>"
      ]
    },
    {
      "cell_type": "code",
      "execution_count": null,
      "metadata": {
        "id": "GBZtet-aUZCH"
      },
      "outputs": [],
      "source": [
        "# Transfer learning with tensorflow part 1\n"
      ]
    },
    {
      "cell_type": "code",
      "source": [
        "import zipfile\n",
        "!wget https://storage.googleapis.com/ztm_tf_course/food_vision/10_food_classes_10_percent.zip"
      ],
      "metadata": {
        "colab": {
          "base_uri": "https://localhost:8080/"
        },
        "id": "xOOQM83uXFYh",
        "outputId": "3389caea-a454-4954-a2f8-0867eea8ff5a"
      },
      "execution_count": null,
      "outputs": [
        {
          "output_type": "stream",
          "name": "stdout",
          "text": [
            "--2022-04-10 16:45:27--  https://storage.googleapis.com/ztm_tf_course/food_vision/10_food_classes_10_percent.zip\n",
            "Resolving storage.googleapis.com (storage.googleapis.com)... 74.125.69.128, 64.233.183.128, 173.194.193.128, ...\n",
            "Connecting to storage.googleapis.com (storage.googleapis.com)|74.125.69.128|:443... connected.\n",
            "HTTP request sent, awaiting response... 200 OK\n",
            "Length: 168546183 (161M) [application/zip]\n",
            "Saving to: ‘10_food_classes_10_percent.zip’\n",
            "\n",
            "10_food_classes_10_ 100%[===================>] 160.74M   136MB/s    in 1.2s    \n",
            "\n",
            "2022-04-10 16:45:28 (136 MB/s) - ‘10_food_classes_10_percent.zip’ saved [168546183/168546183]\n",
            "\n"
          ]
        }
      ]
    },
    {
      "cell_type": "code",
      "source": [
        "zip_ref = zipfile.ZipFile(\"10_food_classes_10_percent.zip\")\n",
        "zip_ref.extractall()\n",
        "zip_ref.close()"
      ],
      "metadata": {
        "id": "PI8A72svXWxa"
      },
      "execution_count": null,
      "outputs": []
    },
    {
      "cell_type": "code",
      "source": [
        "import os\n",
        "\n",
        "for dirpath, dirnames, filenames in os.walk(\"10_food_classes_10_percent\"):\n",
        "  print(f\"There are {len(dirnames)} directories and {len(filenames)} images in '{dirpath}' \")"
      ],
      "metadata": {
        "colab": {
          "base_uri": "https://localhost:8080/"
        },
        "id": "bwdbL-cJX129",
        "outputId": "e6785b77-fe22-4ca5-8065-3cadac407584"
      },
      "execution_count": null,
      "outputs": [
        {
          "output_type": "stream",
          "name": "stdout",
          "text": [
            "There are 2 directories and 0 images in '10_food_classes_10_percent' \n",
            "There are 10 directories and 0 images in '10_food_classes_10_percent/test' \n",
            "There are 0 directories and 250 images in '10_food_classes_10_percent/test/ice_cream' \n",
            "There are 0 directories and 250 images in '10_food_classes_10_percent/test/pizza' \n",
            "There are 0 directories and 250 images in '10_food_classes_10_percent/test/grilled_salmon' \n",
            "There are 0 directories and 250 images in '10_food_classes_10_percent/test/fried_rice' \n",
            "There are 0 directories and 250 images in '10_food_classes_10_percent/test/chicken_wings' \n",
            "There are 0 directories and 250 images in '10_food_classes_10_percent/test/hamburger' \n",
            "There are 0 directories and 250 images in '10_food_classes_10_percent/test/chicken_curry' \n",
            "There are 0 directories and 250 images in '10_food_classes_10_percent/test/sushi' \n",
            "There are 0 directories and 250 images in '10_food_classes_10_percent/test/ramen' \n",
            "There are 0 directories and 250 images in '10_food_classes_10_percent/test/steak' \n",
            "There are 10 directories and 0 images in '10_food_classes_10_percent/train' \n",
            "There are 0 directories and 75 images in '10_food_classes_10_percent/train/ice_cream' \n",
            "There are 0 directories and 75 images in '10_food_classes_10_percent/train/pizza' \n",
            "There are 0 directories and 75 images in '10_food_classes_10_percent/train/grilled_salmon' \n",
            "There are 0 directories and 75 images in '10_food_classes_10_percent/train/fried_rice' \n",
            "There are 0 directories and 75 images in '10_food_classes_10_percent/train/chicken_wings' \n",
            "There are 0 directories and 75 images in '10_food_classes_10_percent/train/hamburger' \n",
            "There are 0 directories and 75 images in '10_food_classes_10_percent/train/chicken_curry' \n",
            "There are 0 directories and 75 images in '10_food_classes_10_percent/train/sushi' \n",
            "There are 0 directories and 75 images in '10_food_classes_10_percent/train/ramen' \n",
            "There are 0 directories and 75 images in '10_food_classes_10_percent/train/steak' \n"
          ]
        }
      ]
    },
    {
      "cell_type": "code",
      "source": [
        "#use image data generator class\n",
        "import tensorflow as tf\n",
        "\n",
        "from tensorflow.keras.preprocessing.image import ImageDataGenerator\n",
        "\n",
        "IMAGE_SHAPE = (224, 224)\n",
        "\n",
        "BATCH_SIZE = 32\n",
        "\n",
        "train_dir = \"10_food_classes_10_percent/train\"\n",
        "test_dir = \"10_food_classes_10_percent/test\"\n",
        "\n",
        "train_datagen = ImageDataGenerator(rescale= 1/255.)\n",
        "test_datagen = ImageDataGenerator(rescale=1/255.)\n",
        "\n",
        "\n",
        "print(\"Training Images:\")\n",
        "\n",
        "train_data_10_percent = train_datagen.flow_from_directory(train_dir,\n",
        "                                                          target_size = IMAGE_SHAPE,\n",
        "                                                          batch_size = BATCH_SIZE,\n",
        "                                                          class_mode = \"categorical\"\n",
        "                                                          )\n",
        "\n",
        "print(\"Testing images:\")\n",
        "\n",
        "test_data_10_percent = test_datagen.flow_from_directory(test_dir,\n",
        "                                                        target_size = IMAGE_SHAPE,\n",
        "                                                        batch_size = BATCH_SIZE,\n",
        "                                                        class_mode=\"categorical\")\n",
        "\n"
      ],
      "metadata": {
        "colab": {
          "base_uri": "https://localhost:8080/"
        },
        "id": "YHPPNQpEYsqK",
        "outputId": "915478dd-5514-408e-9698-3fc6c3835043"
      },
      "execution_count": null,
      "outputs": [
        {
          "output_type": "stream",
          "name": "stdout",
          "text": [
            "Training Images:\n",
            "Found 750 images belonging to 10 classes.\n",
            "Testing images:\n",
            "Found 2500 images belonging to 10 classes.\n"
          ]
        }
      ]
    },
    {
      "cell_type": "code",
      "source": [
        "# setting callbacks\n",
        "\n",
        "import datetime\n",
        "\n",
        "def create_tensorboard_callback(dir_name, experiment_name):\n",
        "  log_dir = dir_name + \"/\" + experiment_name + \"/\" + datetime.datetime.now().strftime(\"%Y%m%d-%H\")\n",
        "  tensorboard_callback = tf.keras.callbacks.TensorBoard(log_dir = log_dir)\n",
        "  print(f\"Saving tensorboard log files to {log_dir}\")\n",
        "  return tensorboard_callback\n",
        "\n",
        "\n"
      ],
      "metadata": {
        "id": "33Saf8ePZd-b"
      },
      "execution_count": null,
      "outputs": []
    },
    {
      "cell_type": "code",
      "source": [
        ""
      ],
      "metadata": {
        "id": "W7v8sgpwSNdt"
      },
      "execution_count": null,
      "outputs": []
    }
  ]
}