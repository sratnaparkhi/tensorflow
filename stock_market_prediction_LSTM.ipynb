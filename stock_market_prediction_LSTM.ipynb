{
  "cells": [
    {
      "cell_type": "markdown",
      "metadata": {
        "id": "view-in-github",
        "colab_type": "text"
      },
      "source": [
        "<a href=\"https://colab.research.google.com/github/sratnaparkhi/tensorflow/blob/main/stock_market_prediction_LSTM.ipynb\" target=\"_parent\"><img src=\"https://colab.research.google.com/assets/colab-badge.svg\" alt=\"Open In Colab\"/></a>"
      ]
    },
    {
      "cell_type": "code",
      "execution_count": null,
      "metadata": {
        "id": "uflDrq5D8BQ-"
      },
      "outputs": [],
      "source": [
        "import tensorflow as tf\n",
        "import pandas_datareader as pdr\n",
        "key= \"3a7d69c89e4f538bf9e96cc75c12d62ec76b0601\""
      ]
    },
    {
      "cell_type": "code",
      "execution_count": null,
      "metadata": {
        "colab": {
          "base_uri": "https://localhost:8080/"
        },
        "id": "B6hclSgN-cVi",
        "outputId": "1d8fc296-850d-4f9d-f105-b813f9049b1a"
      },
      "outputs": [
        {
          "name": "stderr",
          "output_type": "stream",
          "text": [
            "/usr/local/lib/python3.7/dist-packages/pandas_datareader/tiingo.py:234: FutureWarning: In a future version of pandas all arguments of concat except for the argument 'objs' will be keyword-only\n",
            "  return pd.concat(dfs, self._concat_axis)\n"
          ]
        }
      ],
      "source": [
        "df = pdr.get_data_tiingo('AAPL', api_key=key)\n",
        "df.to_csv('AAPL.csv')"
      ]
    },
    {
      "cell_type": "code",
      "execution_count": null,
      "metadata": {
        "colab": {
          "base_uri": "https://localhost:8080/",
          "height": 357
        },
        "id": "uG1GD0jw-gMl",
        "outputId": "267304c2-b30c-4ce1-8ea3-ecf5ec0f235d"
      },
      "outputs": [
        {
          "data": {
            "text/html": [
              "\n",
              "  <div id=\"df-e97c215e-ea19-45a5-86f0-d3d511f259ef\">\n",
              "    <div class=\"colab-df-container\">\n",
              "      <div>\n",
              "<style scoped>\n",
              "    .dataframe tbody tr th:only-of-type {\n",
              "        vertical-align: middle;\n",
              "    }\n",
              "\n",
              "    .dataframe tbody tr th {\n",
              "        vertical-align: top;\n",
              "    }\n",
              "\n",
              "    .dataframe thead th {\n",
              "        text-align: right;\n",
              "    }\n",
              "</style>\n",
              "<table border=\"1\" class=\"dataframe\">\n",
              "  <thead>\n",
              "    <tr style=\"text-align: right;\">\n",
              "      <th></th>\n",
              "      <th>symbol</th>\n",
              "      <th>date</th>\n",
              "      <th>close</th>\n",
              "      <th>high</th>\n",
              "      <th>low</th>\n",
              "      <th>open</th>\n",
              "      <th>volume</th>\n",
              "      <th>adjClose</th>\n",
              "      <th>adjHigh</th>\n",
              "      <th>adjLow</th>\n",
              "      <th>adjOpen</th>\n",
              "      <th>adjVolume</th>\n",
              "      <th>divCash</th>\n",
              "      <th>splitFactor</th>\n",
              "    </tr>\n",
              "  </thead>\n",
              "  <tbody>\n",
              "    <tr>\n",
              "      <th>0</th>\n",
              "      <td>AAPL</td>\n",
              "      <td>2017-05-01 00:00:00+00:00</td>\n",
              "      <td>146.58</td>\n",
              "      <td>147.20</td>\n",
              "      <td>144.96</td>\n",
              "      <td>145.10</td>\n",
              "      <td>32818760</td>\n",
              "      <td>34.593441</td>\n",
              "      <td>34.739763</td>\n",
              "      <td>34.211115</td>\n",
              "      <td>34.244155</td>\n",
              "      <td>131275040</td>\n",
              "      <td>0.0</td>\n",
              "      <td>1.0</td>\n",
              "    </tr>\n",
              "    <tr>\n",
              "      <th>1</th>\n",
              "      <td>AAPL</td>\n",
              "      <td>2017-05-02 00:00:00+00:00</td>\n",
              "      <td>147.51</td>\n",
              "      <td>148.09</td>\n",
              "      <td>146.84</td>\n",
              "      <td>147.54</td>\n",
              "      <td>39752670</td>\n",
              "      <td>34.812924</td>\n",
              "      <td>34.949807</td>\n",
              "      <td>34.654802</td>\n",
              "      <td>34.820004</td>\n",
              "      <td>159010680</td>\n",
              "      <td>0.0</td>\n",
              "      <td>1.0</td>\n",
              "    </tr>\n",
              "    <tr>\n",
              "      <th>2</th>\n",
              "      <td>AAPL</td>\n",
              "      <td>2017-05-03 00:00:00+00:00</td>\n",
              "      <td>147.06</td>\n",
              "      <td>147.49</td>\n",
              "      <td>144.27</td>\n",
              "      <td>145.59</td>\n",
              "      <td>45142806</td>\n",
              "      <td>34.706723</td>\n",
              "      <td>34.808204</td>\n",
              "      <td>34.048272</td>\n",
              "      <td>34.359797</td>\n",
              "      <td>180571224</td>\n",
              "      <td>0.0</td>\n",
              "      <td>1.0</td>\n",
              "    </tr>\n",
              "    <tr>\n",
              "      <th>3</th>\n",
              "      <td>AAPL</td>\n",
              "      <td>2017-05-04 00:00:00+00:00</td>\n",
              "      <td>146.53</td>\n",
              "      <td>147.14</td>\n",
              "      <td>145.81</td>\n",
              "      <td>146.52</td>\n",
              "      <td>23275690</td>\n",
              "      <td>34.581641</td>\n",
              "      <td>34.725603</td>\n",
              "      <td>34.411718</td>\n",
              "      <td>34.579281</td>\n",
              "      <td>93102760</td>\n",
              "      <td>0.0</td>\n",
              "      <td>1.0</td>\n",
              "    </tr>\n",
              "    <tr>\n",
              "      <th>4</th>\n",
              "      <td>AAPL</td>\n",
              "      <td>2017-05-05 00:00:00+00:00</td>\n",
              "      <td>148.96</td>\n",
              "      <td>148.98</td>\n",
              "      <td>146.76</td>\n",
              "      <td>146.76</td>\n",
              "      <td>26787359</td>\n",
              "      <td>35.155130</td>\n",
              "      <td>35.159850</td>\n",
              "      <td>34.635922</td>\n",
              "      <td>34.635922</td>\n",
              "      <td>107149436</td>\n",
              "      <td>0.0</td>\n",
              "      <td>1.0</td>\n",
              "    </tr>\n",
              "  </tbody>\n",
              "</table>\n",
              "</div>\n",
              "      <button class=\"colab-df-convert\" onclick=\"convertToInteractive('df-e97c215e-ea19-45a5-86f0-d3d511f259ef')\"\n",
              "              title=\"Convert this dataframe to an interactive table.\"\n",
              "              style=\"display:none;\">\n",
              "        \n",
              "  <svg xmlns=\"http://www.w3.org/2000/svg\" height=\"24px\"viewBox=\"0 0 24 24\"\n",
              "       width=\"24px\">\n",
              "    <path d=\"M0 0h24v24H0V0z\" fill=\"none\"/>\n",
              "    <path d=\"M18.56 5.44l.94 2.06.94-2.06 2.06-.94-2.06-.94-.94-2.06-.94 2.06-2.06.94zm-11 1L8.5 8.5l.94-2.06 2.06-.94-2.06-.94L8.5 2.5l-.94 2.06-2.06.94zm10 10l.94 2.06.94-2.06 2.06-.94-2.06-.94-.94-2.06-.94 2.06-2.06.94z\"/><path d=\"M17.41 7.96l-1.37-1.37c-.4-.4-.92-.59-1.43-.59-.52 0-1.04.2-1.43.59L10.3 9.45l-7.72 7.72c-.78.78-.78 2.05 0 2.83L4 21.41c.39.39.9.59 1.41.59.51 0 1.02-.2 1.41-.59l7.78-7.78 2.81-2.81c.8-.78.8-2.07 0-2.86zM5.41 20L4 18.59l7.72-7.72 1.47 1.35L5.41 20z\"/>\n",
              "  </svg>\n",
              "      </button>\n",
              "      \n",
              "  <style>\n",
              "    .colab-df-container {\n",
              "      display:flex;\n",
              "      flex-wrap:wrap;\n",
              "      gap: 12px;\n",
              "    }\n",
              "\n",
              "    .colab-df-convert {\n",
              "      background-color: #E8F0FE;\n",
              "      border: none;\n",
              "      border-radius: 50%;\n",
              "      cursor: pointer;\n",
              "      display: none;\n",
              "      fill: #1967D2;\n",
              "      height: 32px;\n",
              "      padding: 0 0 0 0;\n",
              "      width: 32px;\n",
              "    }\n",
              "\n",
              "    .colab-df-convert:hover {\n",
              "      background-color: #E2EBFA;\n",
              "      box-shadow: 0px 1px 2px rgba(60, 64, 67, 0.3), 0px 1px 3px 1px rgba(60, 64, 67, 0.15);\n",
              "      fill: #174EA6;\n",
              "    }\n",
              "\n",
              "    [theme=dark] .colab-df-convert {\n",
              "      background-color: #3B4455;\n",
              "      fill: #D2E3FC;\n",
              "    }\n",
              "\n",
              "    [theme=dark] .colab-df-convert:hover {\n",
              "      background-color: #434B5C;\n",
              "      box-shadow: 0px 1px 3px 1px rgba(0, 0, 0, 0.15);\n",
              "      filter: drop-shadow(0px 1px 2px rgba(0, 0, 0, 0.3));\n",
              "      fill: #FFFFFF;\n",
              "    }\n",
              "  </style>\n",
              "\n",
              "      <script>\n",
              "        const buttonEl =\n",
              "          document.querySelector('#df-e97c215e-ea19-45a5-86f0-d3d511f259ef button.colab-df-convert');\n",
              "        buttonEl.style.display =\n",
              "          google.colab.kernel.accessAllowed ? 'block' : 'none';\n",
              "\n",
              "        async function convertToInteractive(key) {\n",
              "          const element = document.querySelector('#df-e97c215e-ea19-45a5-86f0-d3d511f259ef');\n",
              "          const dataTable =\n",
              "            await google.colab.kernel.invokeFunction('convertToInteractive',\n",
              "                                                     [key], {});\n",
              "          if (!dataTable) return;\n",
              "\n",
              "          const docLinkHtml = 'Like what you see? Visit the ' +\n",
              "            '<a target=\"_blank\" href=https://colab.research.google.com/notebooks/data_table.ipynb>data table notebook</a>'\n",
              "            + ' to learn more about interactive tables.';\n",
              "          element.innerHTML = '';\n",
              "          dataTable['output_type'] = 'display_data';\n",
              "          await google.colab.output.renderOutput(dataTable, element);\n",
              "          const docLink = document.createElement('div');\n",
              "          docLink.innerHTML = docLinkHtml;\n",
              "          element.appendChild(docLink);\n",
              "        }\n",
              "      </script>\n",
              "    </div>\n",
              "  </div>\n",
              "  "
            ],
            "text/plain": [
              "  symbol                       date   close    high     low    open    volume  \\\n",
              "0   AAPL  2017-05-01 00:00:00+00:00  146.58  147.20  144.96  145.10  32818760   \n",
              "1   AAPL  2017-05-02 00:00:00+00:00  147.51  148.09  146.84  147.54  39752670   \n",
              "2   AAPL  2017-05-03 00:00:00+00:00  147.06  147.49  144.27  145.59  45142806   \n",
              "3   AAPL  2017-05-04 00:00:00+00:00  146.53  147.14  145.81  146.52  23275690   \n",
              "4   AAPL  2017-05-05 00:00:00+00:00  148.96  148.98  146.76  146.76  26787359   \n",
              "\n",
              "    adjClose    adjHigh     adjLow    adjOpen  adjVolume  divCash  splitFactor  \n",
              "0  34.593441  34.739763  34.211115  34.244155  131275040      0.0          1.0  \n",
              "1  34.812924  34.949807  34.654802  34.820004  159010680      0.0          1.0  \n",
              "2  34.706723  34.808204  34.048272  34.359797  180571224      0.0          1.0  \n",
              "3  34.581641  34.725603  34.411718  34.579281   93102760      0.0          1.0  \n",
              "4  35.155130  35.159850  34.635922  34.635922  107149436      0.0          1.0  "
            ]
          },
          "execution_count": 9,
          "metadata": {},
          "output_type": "execute_result"
        }
      ],
      "source": [
        "import pandas as pd\n",
        "df = pd.read_csv('AAPL.csv')\n",
        "df.head()"
      ]
    },
    {
      "cell_type": "code",
      "execution_count": null,
      "metadata": {
        "colab": {
          "base_uri": "https://localhost:8080/",
          "height": 364
        },
        "id": "212LKUMA_AXB",
        "outputId": "b963b8bc-66f2-430d-df94-86358446a092"
      },
      "outputs": [
        {
          "data": {
            "text/html": [
              "\n",
              "  <div id=\"df-b3ba2e7c-9b19-496b-b379-36ee130c05f1\">\n",
              "    <div class=\"colab-df-container\">\n",
              "      <div>\n",
              "<style scoped>\n",
              "    .dataframe tbody tr th:only-of-type {\n",
              "        vertical-align: middle;\n",
              "    }\n",
              "\n",
              "    .dataframe tbody tr th {\n",
              "        vertical-align: top;\n",
              "    }\n",
              "\n",
              "    .dataframe thead th {\n",
              "        text-align: right;\n",
              "    }\n",
              "</style>\n",
              "<table border=\"1\" class=\"dataframe\">\n",
              "  <thead>\n",
              "    <tr style=\"text-align: right;\">\n",
              "      <th></th>\n",
              "      <th>close</th>\n",
              "      <th>high</th>\n",
              "      <th>low</th>\n",
              "      <th>open</th>\n",
              "      <th>volume</th>\n",
              "      <th>adjClose</th>\n",
              "      <th>adjHigh</th>\n",
              "      <th>adjLow</th>\n",
              "      <th>adjOpen</th>\n",
              "      <th>adjVolume</th>\n",
              "      <th>divCash</th>\n",
              "      <th>splitFactor</th>\n",
              "    </tr>\n",
              "  </thead>\n",
              "  <tbody>\n",
              "    <tr>\n",
              "      <th>count</th>\n",
              "      <td>1258.000000</td>\n",
              "      <td>1258.000000</td>\n",
              "      <td>1258.000000</td>\n",
              "      <td>1258.000000</td>\n",
              "      <td>1.258000e+03</td>\n",
              "      <td>1258.000000</td>\n",
              "      <td>1258.000000</td>\n",
              "      <td>1258.000000</td>\n",
              "      <td>1258.000000</td>\n",
              "      <td>1.258000e+03</td>\n",
              "      <td>1258.000000</td>\n",
              "      <td>1258.000000</td>\n",
              "    </tr>\n",
              "    <tr>\n",
              "      <th>mean</th>\n",
              "      <td>192.025437</td>\n",
              "      <td>193.949726</td>\n",
              "      <td>189.862636</td>\n",
              "      <td>191.820185</td>\n",
              "      <td>5.472864e+07</td>\n",
              "      <td>82.152454</td>\n",
              "      <td>83.025024</td>\n",
              "      <td>81.203189</td>\n",
              "      <td>82.097542</td>\n",
              "      <td>1.197694e+08</td>\n",
              "      <td>0.009102</td>\n",
              "      <td>1.002385</td>\n",
              "    </tr>\n",
              "    <tr>\n",
              "      <th>std</th>\n",
              "      <td>68.333216</td>\n",
              "      <td>69.032979</td>\n",
              "      <td>67.277276</td>\n",
              "      <td>68.032067</td>\n",
              "      <td>4.037958e+07</td>\n",
              "      <td>45.538066</td>\n",
              "      <td>46.082603</td>\n",
              "      <td>44.957372</td>\n",
              "      <td>45.526522</td>\n",
              "      <td>5.515484e+07</td>\n",
              "      <td>0.077803</td>\n",
              "      <td>0.084583</td>\n",
              "    </tr>\n",
              "    <tr>\n",
              "      <th>min</th>\n",
              "      <td>106.840000</td>\n",
              "      <td>110.190000</td>\n",
              "      <td>103.100000</td>\n",
              "      <td>104.540000</td>\n",
              "      <td>1.136204e+07</td>\n",
              "      <td>33.713666</td>\n",
              "      <td>34.005139</td>\n",
              "      <td>33.697079</td>\n",
              "      <td>33.862957</td>\n",
              "      <td>4.099995e+07</td>\n",
              "      <td>0.000000</td>\n",
              "      <td>1.000000</td>\n",
              "    </tr>\n",
              "    <tr>\n",
              "      <th>25%</th>\n",
              "      <td>149.177500</td>\n",
              "      <td>150.252500</td>\n",
              "      <td>147.855000</td>\n",
              "      <td>149.047500</td>\n",
              "      <td>2.546070e+07</td>\n",
              "      <td>42.780344</td>\n",
              "      <td>43.226012</td>\n",
              "      <td>42.531679</td>\n",
              "      <td>42.810187</td>\n",
              "      <td>8.347511e+07</td>\n",
              "      <td>0.000000</td>\n",
              "      <td>1.000000</td>\n",
              "    </tr>\n",
              "    <tr>\n",
              "      <th>50%</th>\n",
              "      <td>172.795000</td>\n",
              "      <td>174.370000</td>\n",
              "      <td>171.320000</td>\n",
              "      <td>172.560000</td>\n",
              "      <td>3.794050e+07</td>\n",
              "      <td>59.593330</td>\n",
              "      <td>60.314516</td>\n",
              "      <td>58.450462</td>\n",
              "      <td>59.328931</td>\n",
              "      <td>1.048337e+08</td>\n",
              "      <td>0.000000</td>\n",
              "      <td>1.000000</td>\n",
              "    </tr>\n",
              "    <tr>\n",
              "      <th>75%</th>\n",
              "      <td>209.557500</td>\n",
              "      <td>211.997500</td>\n",
              "      <td>207.605000</td>\n",
              "      <td>209.870000</td>\n",
              "      <td>7.656813e+07</td>\n",
              "      <td>124.741082</td>\n",
              "      <td>125.930602</td>\n",
              "      <td>123.394086</td>\n",
              "      <td>124.663701</td>\n",
              "      <td>1.399190e+08</td>\n",
              "      <td>0.000000</td>\n",
              "      <td>1.000000</td>\n",
              "    </tr>\n",
              "    <tr>\n",
              "      <th>max</th>\n",
              "      <td>506.090000</td>\n",
              "      <td>515.140000</td>\n",
              "      <td>500.330000</td>\n",
              "      <td>514.790000</td>\n",
              "      <td>3.326072e+08</td>\n",
              "      <td>181.778019</td>\n",
              "      <td>182.706834</td>\n",
              "      <td>178.891703</td>\n",
              "      <td>182.397229</td>\n",
              "      <td>4.268849e+08</td>\n",
              "      <td>0.820000</td>\n",
              "      <td>4.000000</td>\n",
              "    </tr>\n",
              "  </tbody>\n",
              "</table>\n",
              "</div>\n",
              "      <button class=\"colab-df-convert\" onclick=\"convertToInteractive('df-b3ba2e7c-9b19-496b-b379-36ee130c05f1')\"\n",
              "              title=\"Convert this dataframe to an interactive table.\"\n",
              "              style=\"display:none;\">\n",
              "        \n",
              "  <svg xmlns=\"http://www.w3.org/2000/svg\" height=\"24px\"viewBox=\"0 0 24 24\"\n",
              "       width=\"24px\">\n",
              "    <path d=\"M0 0h24v24H0V0z\" fill=\"none\"/>\n",
              "    <path d=\"M18.56 5.44l.94 2.06.94-2.06 2.06-.94-2.06-.94-.94-2.06-.94 2.06-2.06.94zm-11 1L8.5 8.5l.94-2.06 2.06-.94-2.06-.94L8.5 2.5l-.94 2.06-2.06.94zm10 10l.94 2.06.94-2.06 2.06-.94-2.06-.94-.94-2.06-.94 2.06-2.06.94z\"/><path d=\"M17.41 7.96l-1.37-1.37c-.4-.4-.92-.59-1.43-.59-.52 0-1.04.2-1.43.59L10.3 9.45l-7.72 7.72c-.78.78-.78 2.05 0 2.83L4 21.41c.39.39.9.59 1.41.59.51 0 1.02-.2 1.41-.59l7.78-7.78 2.81-2.81c.8-.78.8-2.07 0-2.86zM5.41 20L4 18.59l7.72-7.72 1.47 1.35L5.41 20z\"/>\n",
              "  </svg>\n",
              "      </button>\n",
              "      \n",
              "  <style>\n",
              "    .colab-df-container {\n",
              "      display:flex;\n",
              "      flex-wrap:wrap;\n",
              "      gap: 12px;\n",
              "    }\n",
              "\n",
              "    .colab-df-convert {\n",
              "      background-color: #E8F0FE;\n",
              "      border: none;\n",
              "      border-radius: 50%;\n",
              "      cursor: pointer;\n",
              "      display: none;\n",
              "      fill: #1967D2;\n",
              "      height: 32px;\n",
              "      padding: 0 0 0 0;\n",
              "      width: 32px;\n",
              "    }\n",
              "\n",
              "    .colab-df-convert:hover {\n",
              "      background-color: #E2EBFA;\n",
              "      box-shadow: 0px 1px 2px rgba(60, 64, 67, 0.3), 0px 1px 3px 1px rgba(60, 64, 67, 0.15);\n",
              "      fill: #174EA6;\n",
              "    }\n",
              "\n",
              "    [theme=dark] .colab-df-convert {\n",
              "      background-color: #3B4455;\n",
              "      fill: #D2E3FC;\n",
              "    }\n",
              "\n",
              "    [theme=dark] .colab-df-convert:hover {\n",
              "      background-color: #434B5C;\n",
              "      box-shadow: 0px 1px 3px 1px rgba(0, 0, 0, 0.15);\n",
              "      filter: drop-shadow(0px 1px 2px rgba(0, 0, 0, 0.3));\n",
              "      fill: #FFFFFF;\n",
              "    }\n",
              "  </style>\n",
              "\n",
              "      <script>\n",
              "        const buttonEl =\n",
              "          document.querySelector('#df-b3ba2e7c-9b19-496b-b379-36ee130c05f1 button.colab-df-convert');\n",
              "        buttonEl.style.display =\n",
              "          google.colab.kernel.accessAllowed ? 'block' : 'none';\n",
              "\n",
              "        async function convertToInteractive(key) {\n",
              "          const element = document.querySelector('#df-b3ba2e7c-9b19-496b-b379-36ee130c05f1');\n",
              "          const dataTable =\n",
              "            await google.colab.kernel.invokeFunction('convertToInteractive',\n",
              "                                                     [key], {});\n",
              "          if (!dataTable) return;\n",
              "\n",
              "          const docLinkHtml = 'Like what you see? Visit the ' +\n",
              "            '<a target=\"_blank\" href=https://colab.research.google.com/notebooks/data_table.ipynb>data table notebook</a>'\n",
              "            + ' to learn more about interactive tables.';\n",
              "          element.innerHTML = '';\n",
              "          dataTable['output_type'] = 'display_data';\n",
              "          await google.colab.output.renderOutput(dataTable, element);\n",
              "          const docLink = document.createElement('div');\n",
              "          docLink.innerHTML = docLinkHtml;\n",
              "          element.appendChild(docLink);\n",
              "        }\n",
              "      </script>\n",
              "    </div>\n",
              "  </div>\n",
              "  "
            ],
            "text/plain": [
              "             close         high          low         open        volume  \\\n",
              "count  1258.000000  1258.000000  1258.000000  1258.000000  1.258000e+03   \n",
              "mean    192.025437   193.949726   189.862636   191.820185  5.472864e+07   \n",
              "std      68.333216    69.032979    67.277276    68.032067  4.037958e+07   \n",
              "min     106.840000   110.190000   103.100000   104.540000  1.136204e+07   \n",
              "25%     149.177500   150.252500   147.855000   149.047500  2.546070e+07   \n",
              "50%     172.795000   174.370000   171.320000   172.560000  3.794050e+07   \n",
              "75%     209.557500   211.997500   207.605000   209.870000  7.656813e+07   \n",
              "max     506.090000   515.140000   500.330000   514.790000  3.326072e+08   \n",
              "\n",
              "          adjClose      adjHigh       adjLow      adjOpen     adjVolume  \\\n",
              "count  1258.000000  1258.000000  1258.000000  1258.000000  1.258000e+03   \n",
              "mean     82.152454    83.025024    81.203189    82.097542  1.197694e+08   \n",
              "std      45.538066    46.082603    44.957372    45.526522  5.515484e+07   \n",
              "min      33.713666    34.005139    33.697079    33.862957  4.099995e+07   \n",
              "25%      42.780344    43.226012    42.531679    42.810187  8.347511e+07   \n",
              "50%      59.593330    60.314516    58.450462    59.328931  1.048337e+08   \n",
              "75%     124.741082   125.930602   123.394086   124.663701  1.399190e+08   \n",
              "max     181.778019   182.706834   178.891703   182.397229  4.268849e+08   \n",
              "\n",
              "           divCash  splitFactor  \n",
              "count  1258.000000  1258.000000  \n",
              "mean      0.009102     1.002385  \n",
              "std       0.077803     0.084583  \n",
              "min       0.000000     1.000000  \n",
              "25%       0.000000     1.000000  \n",
              "50%       0.000000     1.000000  \n",
              "75%       0.000000     1.000000  \n",
              "max       0.820000     4.000000  "
            ]
          },
          "execution_count": 11,
          "metadata": {},
          "output_type": "execute_result"
        }
      ],
      "source": [
        "df.describe()"
      ]
    },
    {
      "cell_type": "code",
      "execution_count": null,
      "metadata": {
        "colab": {
          "base_uri": "https://localhost:8080/"
        },
        "id": "RSltrcek_khl",
        "outputId": "17bd9b5d-332a-4deb-ca72-21aba0471516"
      },
      "outputs": [
        {
          "data": {
            "text/plain": [
              "0    146.58\n",
              "1    147.51\n",
              "2    147.06\n",
              "3    146.53\n",
              "4    148.96\n",
              "Name: close, dtype: float64"
            ]
          },
          "execution_count": 12,
          "metadata": {},
          "output_type": "execute_result"
        }
      ],
      "source": [
        "df1 = df.reset_index()['close']\n",
        "df1.head()"
      ]
    },
    {
      "cell_type": "code",
      "execution_count": null,
      "metadata": {
        "colab": {
          "base_uri": "https://localhost:8080/",
          "height": 283
        },
        "id": "bzCyJR7bACHS",
        "outputId": "3af82703-2e95-4788-aacd-dfab3742cb85"
      },
      "outputs": [
        {
          "data": {
            "text/plain": [
              "[<matplotlib.lines.Line2D at 0x7f9bdaa0ce10>]"
            ]
          },
          "execution_count": 13,
          "metadata": {},
          "output_type": "execute_result"
        },
        {
          "data": {
            "image/png": "[encoded data removed]",
            "text/plain": [
              "<Figure size 432x288 with 1 Axes>"
            ]
          },
          "metadata": {},
          "output_type": "display_data"
        }
      ],
      "source": [
        "import matplotlib.pyplot as plt\n",
        "plt.plot(df1)"
      ]
    },
    {
      "cell_type": "code",
      "execution_count": null,
      "metadata": {
        "colab": {
          "base_uri": "https://localhost:8080/"
        },
        "id": "dF2p0d_CAOsi",
        "outputId": "27a677bb-9af9-4165-a612-e6cbd4552a1f"
      },
      "outputs": [
        {
          "data": {
            "text/plain": [
              "array([[0.10042757],\n",
              "       [0.101866  ],\n",
              "       [0.10164919],\n",
              "       ...,\n",
              "       [0.14036318],\n",
              "       [0.12643795],\n",
              "       [0.12455855]])"
            ]
          },
          "execution_count": 18,
          "metadata": {},
          "output_type": "execute_result"
        }
      ],
      "source": [
        "from sklearn.preprocessing import MinMaxScaler\n",
        "import numpy as np\n",
        "scaler = MinMaxScaler(feature_range=(0,1))\n",
        "df1 = scaler.fit_transform(np.array(df1).reshape(-1,1))\n",
        "\n",
        "df1"
      ]
    },
    {
      "cell_type": "code",
      "execution_count": null,
      "metadata": {
        "colab": {
          "background_save": true
        },
        "id": "lofb0bF_K9OL",
        "outputId": "a7f3088c-83d1-4c77-b50d-d5a5a391e1ea"
      },
      "outputs": [
        {
          "data": {
            "text/plain": [
              "441"
            ]
          },
          "execution_count": null,
          "metadata": {},
          "output_type": "execute_result"
        }
      ],
      "source": [
        "# split the dataset between train and test\n",
        "train_size = int(len(df1) *0.65)\n",
        "test_size = len(df1) - train_size\n",
        "train_data, test_data = df1[0:train_size,:], df1[train_size:len(df1),:1]\n",
        "int(len(df1) *0.65)"
      ]
    },
    {
      "cell_type": "code",
      "execution_count": null,
      "metadata": {
        "id": "uiUz0TWvN2NB"
      },
      "outputs": [],
      "source": [
        "import numpy\n",
        "# convert an array of values into a dataset matrix\n",
        "def create_dataset(dataset, time_step=1):\n",
        "\tdataX, dataY = [], []\n",
        "\tfor i in range(len(dataset)-time_step-1):\n",
        "\t\ta = dataset[i:(i+time_step), 0]   ###i=0, 0,1,2,3-----99   100     \n",
        "\t\tdataX.append(a)    \n",
        "\t\tdataY.append(dataset[i + time_step, 0])\n",
        "\treturn numpy.array(dataX), numpy.array(dataY)\n",
        " "
      ]
    },
    {
      "cell_type": "code",
      "source": [
        "time_step = 100\n",
        "X_train, y_train = create_dataset(train_data, time_step)\n",
        "X_test, ytest = create_dataset(test_data, time_step)\n",
        "#print(X_train)\n",
        "X_train.shape,y_train.shape"
      ],
      "metadata": {
        "colab": {
          "base_uri": "https://localhost:8080/"
        },
        "id": "d4-R5QqgsSdW",
        "outputId": "530fe817-8139-46a8-b980-8a8da8a172ae"
      },
      "execution_count": null,
      "outputs": [
        {
          "output_type": "execute_result",
          "data": {
            "text/plain": [
              "((716, 100), (716,))"
            ]
          },
          "metadata": {},
          "execution_count": 22
        }
      ]
    },
    {
      "cell_type": "code",
      "source": [
        "# reshape\n",
        "X_train = X_train.reshape(X_train.shape[0],X_train.shape[1],1)\n"
      ],
      "metadata": {
        "id": "o2WKHih4sVXi"
      },
      "execution_count": null,
      "outputs": []
    },
    {
      "cell_type": "code",
      "source": [
        "from tensorflow.keras.models import Sequential\n",
        "from tensorflow.keras.layers import LSTM, Dense\n"
      ],
      "metadata": {
        "id": "sTuYD3Oisr7M"
      },
      "execution_count": null,
      "outputs": []
    },
    {
      "cell_type": "code",
      "source": [
        "# let create model\n",
        "model = Sequential()\n",
        "model.add(LSTM(50,return_sequences= True,input_shape=(100,1)))\n",
        "model.add(LSTM(50,return_sequences=True))\n",
        "model.add(LSTM(50))\n",
        "model.add(Dense(1))\n",
        "model.compile(loss='mean_squared_error', optimizer= 'adam')\n",
        "model.summary()"
      ],
      "metadata": {
        "colab": {
          "base_uri": "https://localhost:8080/"
        },
        "id": "uVVZqdr4vUkM",
        "outputId": "8fb819fc-7baa-4018-81a4-ce7692343a5d"
      },
      "execution_count": null,
      "outputs": [
        {
          "output_type": "stream",
          "name": "stdout",
          "text": [
            "Model: \"sequential_1\"\n",
            "_________________________________________________________________\n",
            " Layer (type)                Output Shape              Param #   \n",
            "=================================================================\n",
            " lstm_1 (LSTM)               (None, 100, 50)           10400     \n",
            "                                                                 \n",
            " lstm_2 (LSTM)               (None, 100, 50)           20200     \n",
            "                                                                 \n",
            " lstm_3 (LSTM)               (None, 50)                20200     \n",
            "                                                                 \n",
            " dense (Dense)               (None, 1)                 51        \n",
            "                                                                 \n",
            "=================================================================\n",
            "Total params: 50,851\n",
            "Trainable params: 50,851\n",
            "Non-trainable params: 0\n",
            "_________________________________________________________________\n"
          ]
        }
      ]
    },
    {
      "cell_type": "code",
      "source": [
        "model.fit(X_train,y_train, validation_data=(X_test,y_test), epochs=100, batch_size=64, verbose=1)"
      ],
      "metadata": {
        "colab": {
          "base_uri": "https://localhost:8080/"
        },
        "id": "UsGrKKIZwcUL",
        "outputId": "2f020481-a96e-4f1a-b202-d83ab9f777ab"
      },
      "execution_count": null,
      "outputs": [
        {
          "output_type": "stream",
          "name": "stdout",
          "text": [
            "Epoch 1/100\n",
            "12/12 [==============================] - 11s 341ms/step - loss: 0.0302 - val_loss: 0.0016\n",
            "Epoch 2/100\n",
            "12/12 [==============================] - 2s 197ms/step - loss: 0.0061 - val_loss: 0.0059\n",
            "Epoch 3/100\n",
            "12/12 [==============================] - 2s 197ms/step - loss: 0.0025 - val_loss: 6.5957e-04\n",
            "Epoch 4/100\n",
            "12/12 [==============================] - 2s 193ms/step - loss: 0.0014 - val_loss: 3.8925e-04\n",
            "Epoch 5/100\n",
            "12/12 [==============================] - 2s 192ms/step - loss: 0.0012 - val_loss: 2.7613e-04\n",
            "Epoch 6/100\n",
            "12/12 [==============================] - 2s 198ms/step - loss: 0.0010 - val_loss: 2.8202e-04\n",
            "Epoch 7/100\n",
            "12/12 [==============================] - 2s 196ms/step - loss: 0.0011 - val_loss: 3.1863e-04\n",
            "Epoch 8/100\n",
            "12/12 [==============================] - 2s 193ms/step - loss: 9.9650e-04 - val_loss: 2.6776e-04\n",
            "Epoch 9/100\n",
            "12/12 [==============================] - 2s 196ms/step - loss: 0.0011 - val_loss: 2.8733e-04\n",
            "Epoch 10/100\n",
            "12/12 [==============================] - 2s 198ms/step - loss: 9.2198e-04 - val_loss: 2.6750e-04\n",
            "Epoch 11/100\n",
            "12/12 [==============================] - 2s 199ms/step - loss: 9.3620e-04 - val_loss: 2.6461e-04\n",
            "Epoch 12/100\n",
            "12/12 [==============================] - 2s 195ms/step - loss: 8.7121e-04 - val_loss: 2.4724e-04\n",
            "Epoch 13/100\n",
            "12/12 [==============================] - 2s 196ms/step - loss: 8.2447e-04 - val_loss: 2.4461e-04\n",
            "Epoch 14/100\n",
            "12/12 [==============================] - 3s 243ms/step - loss: 8.1917e-04 - val_loss: 2.4032e-04\n",
            "Epoch 15/100\n",
            "12/12 [==============================] - 2s 194ms/step - loss: 8.9681e-04 - val_loss: 2.5994e-04\n",
            "Epoch 16/100\n",
            "12/12 [==============================] - 2s 192ms/step - loss: 6.7653e-04 - val_loss: 3.4036e-04\n",
            "Epoch 17/100\n",
            "12/12 [==============================] - 2s 205ms/step - loss: 6.6876e-04 - val_loss: 2.8654e-04\n",
            "Epoch 18/100\n",
            "12/12 [==============================] - 2s 197ms/step - loss: 6.2886e-04 - val_loss: 3.0811e-04\n",
            "Epoch 19/100\n",
            "12/12 [==============================] - 2s 203ms/step - loss: 6.0453e-04 - val_loss: 2.8064e-04\n",
            "Epoch 20/100\n",
            "12/12 [==============================] - 2s 202ms/step - loss: 5.9029e-04 - val_loss: 2.3852e-04\n",
            "Epoch 21/100\n",
            "12/12 [==============================] - 2s 197ms/step - loss: 5.6391e-04 - val_loss: 2.3394e-04\n",
            "Epoch 22/100\n",
            "12/12 [==============================] - 2s 194ms/step - loss: 5.4339e-04 - val_loss: 2.3195e-04\n",
            "Epoch 23/100\n",
            "12/12 [==============================] - 2s 198ms/step - loss: 5.4502e-04 - val_loss: 2.2609e-04\n",
            "Epoch 24/100\n",
            "12/12 [==============================] - 2s 191ms/step - loss: 5.2565e-04 - val_loss: 2.3209e-04\n",
            "Epoch 25/100\n",
            "12/12 [==============================] - 2s 198ms/step - loss: 5.3445e-04 - val_loss: 2.3232e-04\n",
            "Epoch 26/100\n",
            "12/12 [==============================] - 2s 197ms/step - loss: 5.2310e-04 - val_loss: 2.2602e-04\n",
            "Epoch 27/100\n",
            "12/12 [==============================] - 2s 199ms/step - loss: 5.0194e-04 - val_loss: 2.4029e-04\n",
            "Epoch 28/100\n",
            "12/12 [==============================] - 2s 199ms/step - loss: 5.1815e-04 - val_loss: 2.6096e-04\n",
            "Epoch 29/100\n",
            "12/12 [==============================] - 2s 194ms/step - loss: 5.7998e-04 - val_loss: 2.1950e-04\n",
            "Epoch 30/100\n",
            "12/12 [==============================] - 2s 195ms/step - loss: 5.3890e-04 - val_loss: 2.7382e-04\n",
            "Epoch 31/100\n",
            "12/12 [==============================] - 2s 196ms/step - loss: 5.1731e-04 - val_loss: 2.1270e-04\n",
            "Epoch 32/100\n",
            "12/12 [==============================] - 2s 195ms/step - loss: 5.0972e-04 - val_loss: 2.0710e-04\n",
            "Epoch 33/100\n",
            "12/12 [==============================] - 2s 197ms/step - loss: 5.7683e-04 - val_loss: 2.2736e-04\n",
            "Epoch 34/100\n",
            "12/12 [==============================] - 2s 201ms/step - loss: 5.0844e-04 - val_loss: 2.1991e-04\n",
            "Epoch 35/100\n",
            "12/12 [==============================] - 2s 207ms/step - loss: 4.8304e-04 - val_loss: 2.0319e-04\n",
            "Epoch 36/100\n",
            "12/12 [==============================] - 2s 198ms/step - loss: 5.3016e-04 - val_loss: 2.4675e-04\n",
            "Epoch 37/100\n",
            "12/12 [==============================] - 2s 201ms/step - loss: 4.6838e-04 - val_loss: 1.9868e-04\n",
            "Epoch 38/100\n",
            "12/12 [==============================] - 2s 204ms/step - loss: 4.8521e-04 - val_loss: 2.3495e-04\n",
            "Epoch 39/100\n",
            "12/12 [==============================] - 2s 205ms/step - loss: 4.4083e-04 - val_loss: 2.0084e-04\n",
            "Epoch 40/100\n",
            "12/12 [==============================] - 2s 202ms/step - loss: 4.5865e-04 - val_loss: 2.0944e-04\n",
            "Epoch 41/100\n",
            "12/12 [==============================] - 2s 200ms/step - loss: 5.0469e-04 - val_loss: 1.9585e-04\n",
            "Epoch 42/100\n",
            "12/12 [==============================] - 2s 195ms/step - loss: 4.6458e-04 - val_loss: 2.1144e-04\n",
            "Epoch 43/100\n",
            "12/12 [==============================] - 2s 197ms/step - loss: 4.5997e-04 - val_loss: 2.4444e-04\n",
            "Epoch 44/100\n",
            "12/12 [==============================] - 2s 199ms/step - loss: 5.0458e-04 - val_loss: 1.9091e-04\n",
            "Epoch 45/100\n",
            "12/12 [==============================] - 2s 192ms/step - loss: 5.7444e-04 - val_loss: 2.7519e-04\n",
            "Epoch 46/100\n",
            "12/12 [==============================] - 2s 197ms/step - loss: 5.0330e-04 - val_loss: 2.2801e-04\n",
            "Epoch 47/100\n",
            "12/12 [==============================] - 2s 201ms/step - loss: 5.0609e-04 - val_loss: 1.9313e-04\n",
            "Epoch 48/100\n",
            "12/12 [==============================] - 2s 194ms/step - loss: 4.4451e-04 - val_loss: 1.9538e-04\n",
            "Epoch 49/100\n",
            "12/12 [==============================] - 2s 201ms/step - loss: 4.3743e-04 - val_loss: 3.4618e-04\n",
            "Epoch 50/100\n",
            "12/12 [==============================] - 2s 193ms/step - loss: 5.5183e-04 - val_loss: 2.0116e-04\n",
            "Epoch 51/100\n",
            "12/12 [==============================] - 2s 192ms/step - loss: 4.7718e-04 - val_loss: 2.4434e-04\n",
            "Epoch 52/100\n",
            "12/12 [==============================] - 2s 195ms/step - loss: 4.2107e-04 - val_loss: 1.9119e-04\n",
            "Epoch 53/100\n",
            "12/12 [==============================] - 2s 196ms/step - loss: 4.1731e-04 - val_loss: 2.1114e-04\n",
            "Epoch 54/100\n",
            "12/12 [==============================] - 2s 196ms/step - loss: 4.2396e-04 - val_loss: 2.2671e-04\n",
            "Epoch 55/100\n",
            "12/12 [==============================] - 2s 196ms/step - loss: 4.2938e-04 - val_loss: 2.2186e-04\n",
            "Epoch 56/100\n",
            "12/12 [==============================] - 2s 201ms/step - loss: 4.2984e-04 - val_loss: 1.8046e-04\n",
            "Epoch 57/100\n",
            "12/12 [==============================] - 2s 199ms/step - loss: 4.6281e-04 - val_loss: 2.1416e-04\n",
            "Epoch 58/100\n",
            "12/12 [==============================] - 2s 192ms/step - loss: 4.4105e-04 - val_loss: 1.7723e-04\n",
            "Epoch 59/100\n",
            "12/12 [==============================] - 3s 266ms/step - loss: 4.0887e-04 - val_loss: 1.9462e-04\n",
            "Epoch 60/100\n",
            "12/12 [==============================] - 2s 195ms/step - loss: 4.2319e-04 - val_loss: 1.7669e-04\n",
            "Epoch 61/100\n",
            "12/12 [==============================] - 2s 192ms/step - loss: 4.6766e-04 - val_loss: 1.7477e-04\n",
            "Epoch 62/100\n",
            "12/12 [==============================] - 2s 197ms/step - loss: 4.1058e-04 - val_loss: 2.5923e-04\n",
            "Epoch 63/100\n",
            "12/12 [==============================] - 2s 196ms/step - loss: 4.4554e-04 - val_loss: 1.7424e-04\n",
            "Epoch 64/100\n",
            "12/12 [==============================] - 2s 191ms/step - loss: 4.9191e-04 - val_loss: 2.1922e-04\n",
            "Epoch 65/100\n",
            "12/12 [==============================] - 2s 197ms/step - loss: 4.0601e-04 - val_loss: 2.1139e-04\n",
            "Epoch 66/100\n",
            "12/12 [==============================] - 2s 201ms/step - loss: 4.2219e-04 - val_loss: 1.7209e-04\n",
            "Epoch 67/100\n",
            "12/12 [==============================] - 2s 196ms/step - loss: 4.0327e-04 - val_loss: 1.8816e-04\n",
            "Epoch 68/100\n",
            "12/12 [==============================] - 2s 200ms/step - loss: 4.0626e-04 - val_loss: 1.8921e-04\n",
            "Epoch 69/100\n",
            "12/12 [==============================] - 2s 201ms/step - loss: 4.4471e-04 - val_loss: 1.8073e-04\n",
            "Epoch 70/100\n",
            "12/12 [==============================] - 2s 199ms/step - loss: 3.9747e-04 - val_loss: 1.8596e-04\n",
            "Epoch 71/100\n",
            "12/12 [==============================] - 2s 201ms/step - loss: 3.8292e-04 - val_loss: 1.7423e-04\n",
            "Epoch 72/100\n",
            "12/12 [==============================] - 2s 195ms/step - loss: 4.0610e-04 - val_loss: 1.6867e-04\n",
            "Epoch 73/100\n",
            "12/12 [==============================] - 2s 197ms/step - loss: 4.1472e-04 - val_loss: 1.7335e-04\n",
            "Epoch 74/100\n",
            "12/12 [==============================] - 2s 199ms/step - loss: 4.4013e-04 - val_loss: 1.9057e-04\n",
            "Epoch 75/100\n",
            "12/12 [==============================] - 2s 195ms/step - loss: 4.0297e-04 - val_loss: 2.0070e-04\n",
            "Epoch 76/100\n",
            "12/12 [==============================] - 2s 201ms/step - loss: 4.0977e-04 - val_loss: 1.7396e-04\n",
            "Epoch 77/100\n",
            "12/12 [==============================] - 2s 196ms/step - loss: 3.9973e-04 - val_loss: 1.7627e-04\n",
            "Epoch 78/100\n",
            "12/12 [==============================] - 2s 205ms/step - loss: 3.7528e-04 - val_loss: 1.7470e-04\n",
            "Epoch 79/100\n",
            "12/12 [==============================] - 2s 199ms/step - loss: 3.7134e-04 - val_loss: 1.7994e-04\n",
            "Epoch 80/100\n",
            "12/12 [==============================] - 2s 207ms/step - loss: 3.8207e-04 - val_loss: 1.8327e-04\n",
            "Epoch 81/100\n",
            "12/12 [==============================] - 2s 202ms/step - loss: 3.8730e-04 - val_loss: 1.8405e-04\n",
            "Epoch 82/100\n",
            "12/12 [==============================] - 2s 201ms/step - loss: 3.7997e-04 - val_loss: 1.8669e-04\n",
            "Epoch 83/100\n",
            "12/12 [==============================] - 2s 198ms/step - loss: 3.6602e-04 - val_loss: 1.7191e-04\n",
            "Epoch 84/100\n",
            "12/12 [==============================] - 2s 197ms/step - loss: 3.7290e-04 - val_loss: 2.2542e-04\n",
            "Epoch 85/100\n",
            "12/12 [==============================] - 2s 202ms/step - loss: 4.4793e-04 - val_loss: 1.7050e-04\n",
            "Epoch 86/100\n",
            "12/12 [==============================] - 2s 203ms/step - loss: 4.1252e-04 - val_loss: 1.7619e-04\n",
            "Epoch 87/100\n",
            "12/12 [==============================] - 2s 207ms/step - loss: 3.8445e-04 - val_loss: 1.6449e-04\n",
            "Epoch 88/100\n",
            "12/12 [==============================] - 2s 201ms/step - loss: 3.6421e-04 - val_loss: 1.5851e-04\n",
            "Epoch 89/100\n",
            "12/12 [==============================] - 2s 200ms/step - loss: 3.6796e-04 - val_loss: 2.1638e-04\n",
            "Epoch 90/100\n",
            "12/12 [==============================] - 2s 198ms/step - loss: 3.8375e-04 - val_loss: 1.5739e-04\n",
            "Epoch 91/100\n",
            "12/12 [==============================] - 2s 197ms/step - loss: 4.1797e-04 - val_loss: 1.8488e-04\n",
            "Epoch 92/100\n",
            "12/12 [==============================] - 2s 197ms/step - loss: 4.8042e-04 - val_loss: 2.3278e-04\n",
            "Epoch 93/100\n",
            "12/12 [==============================] - 2s 202ms/step - loss: 4.3011e-04 - val_loss: 2.3396e-04\n",
            "Epoch 94/100\n",
            "12/12 [==============================] - 2s 201ms/step - loss: 3.9814e-04 - val_loss: 2.0643e-04\n",
            "Epoch 95/100\n",
            "12/12 [==============================] - 2s 199ms/step - loss: 4.1662e-04 - val_loss: 1.9437e-04\n",
            "Epoch 96/100\n",
            "12/12 [==============================] - 2s 202ms/step - loss: 4.2091e-04 - val_loss: 1.5253e-04\n",
            "Epoch 97/100\n",
            "12/12 [==============================] - 2s 196ms/step - loss: 4.1592e-04 - val_loss: 2.4146e-04\n",
            "Epoch 98/100\n",
            "12/12 [==============================] - 2s 202ms/step - loss: 3.6844e-04 - val_loss: 1.5500e-04\n",
            "Epoch 99/100\n",
            "12/12 [==============================] - 2s 201ms/step - loss: 4.5801e-04 - val_loss: 3.0286e-04\n",
            "Epoch 100/100\n",
            "12/12 [==============================] - 2s 197ms/step - loss: 4.2678e-04 - val_loss: 1.5329e-04\n"
          ]
        },
        {
          "output_type": "execute_result",
          "data": {
            "text/plain": [
              "<keras.callbacks.History at 0x7f9cb33848d0>"
            ]
          },
          "metadata": {},
          "execution_count": 35
        }
      ]
    },
    {
      "cell_type": "code",
      "source": [
        "### Lets Do the prediction and check performance metrics\n",
        "train_predict=model.predict(X_train)\n",
        "test_predict=model.predict(X_test)"
      ],
      "metadata": {
        "id": "NIcosIhNxF3E"
      },
      "execution_count": null,
      "outputs": []
    },
    {
      "cell_type": "code",
      "source": [
        "##Transformback to original form\n",
        "train_predict=scaler.inverse_transform(train_predict)\n",
        "test_predict=scaler.inverse_transform(test_predict)\n"
      ],
      "metadata": {
        "id": "-EGmcfHY5wgF"
      },
      "execution_count": null,
      "outputs": []
    },
    {
      "cell_type": "code",
      "source": [
        "### Calculate RMSE performance metrics\n",
        "import math\n",
        "from sklearn.metrics import mean_squared_error \n",
        "math.sqrt(mean_squared_error(y_train,train_predict))"
      ],
      "metadata": {
        "colab": {
          "base_uri": "https://localhost:8080/"
        },
        "id": "JcXwBI2e573K",
        "outputId": "6648725b-2579-4f1e-8731-0490014814ff"
      },
      "execution_count": null,
      "outputs": [
        {
          "output_type": "execute_result",
          "data": {
            "text/plain": [
              "220.5765946224253"
            ]
          },
          "metadata": {},
          "execution_count": 38
        }
      ]
    },
    {
      "cell_type": "code",
      "source": [
        "### Test Data RMSE\n",
        "math.sqrt(mean_squared_error(ytest,test_predict))"
      ],
      "metadata": {
        "colab": {
          "base_uri": "https://localhost:8080/"
        },
        "id": "-wIi6LqC-wdz",
        "outputId": "819f67b0-f21f-4c17-83ff-f88581a3d5b1"
      },
      "execution_count": null,
      "outputs": [
        {
          "output_type": "execute_result",
          "data": {
            "text/plain": [
              "147.89253693419113"
            ]
          },
          "metadata": {},
          "execution_count": 39
        }
      ]
    },
    {
      "cell_type": "code",
      "source": [
        "### Plotting \n",
        "# shift train predictions for plotting\n",
        "look_back=100\n",
        "trainPredictPlot = numpy.empty_like(df1)\n",
        "trainPredictPlot[:, :] = np.nan\n",
        "trainPredictPlot[look_back:len(train_predict)+look_back, :] = train_predict\n",
        "# shift test predictions for plotting\n",
        "testPredictPlot = numpy.empty_like(df1)\n",
        "testPredictPlot[:, :] = numpy.nan\n",
        "testPredictPlot[len(train_predict)+(look_back*2)+1:len(df1)-1, :] = test_predict\n",
        "# plot baseline and predictions\n",
        "plt.plot(scaler.inverse_transform(df1))\n",
        "plt.plot(trainPredictPlot)\n",
        "plt.plot(testPredictPlot)\n",
        "plt.show()"
      ],
      "metadata": {
        "colab": {
          "base_uri": "https://localhost:8080/",
          "height": 265
        },
        "id": "GGyO4tbC-3J3",
        "outputId": "dd88c8f7-fb79-4e65-a818-9f91e0cb1f1c"
      },
      "execution_count": null,
      "outputs": [
        {
          "output_type": "display_data",
          "data": {
            "text/plain": [
              "<Figure size 432x288 with 1 Axes>"
            ],
            "image/png": "[encoded data removed]"
          },
          "metadata": {
            "needs_background": "light"
          }
        }
      ]
    },
    {
      "cell_type": "code",
      "source": [
        "len(test_data)"
      ],
      "metadata": {
        "colab": {
          "base_uri": "https://localhost:8080/"
        },
        "id": "oyyWfoFC_HXy",
        "outputId": "c23ec45e-973e-4705-a991-209f820c6d1d"
      },
      "execution_count": null,
      "outputs": [
        {
          "output_type": "execute_result",
          "data": {
            "text/plain": [
              "441"
            ]
          },
          "metadata": {},
          "execution_count": 41
        }
      ]
    },
    {
      "cell_type": "code",
      "source": [
        "x_input=test_data[341:].reshape(1,-1)\n",
        "x_input.shape"
      ],
      "metadata": {
        "colab": {
          "base_uri": "https://localhost:8080/"
        },
        "id": "tGnNijsX_P2_",
        "outputId": "3fb66719-c7b8-4ade-8bf6-1f5df7135a90"
      },
      "execution_count": null,
      "outputs": [
        {
          "output_type": "execute_result",
          "data": {
            "text/plain": [
              "(1, 100)"
            ]
          },
          "metadata": {},
          "execution_count": 42
        }
      ]
    },
    {
      "cell_type": "code",
      "source": [
        "temp_input=list(x_input)\n",
        "temp_input=temp_input[0].tolist()"
      ],
      "metadata": {
        "id": "AmoU4C1B_UCj"
      },
      "execution_count": null,
      "outputs": []
    },
    {
      "cell_type": "code",
      "source": [
        "# demonstrate prediction for next 10 days\n",
        "from numpy import array\n",
        "\n",
        "lst_output=[]\n",
        "n_steps=100\n",
        "i=0\n",
        "while(i<30):\n",
        "    \n",
        "    if(len(temp_input)>100):\n",
        "        #print(temp_input)\n",
        "        x_input=np.array(temp_input[1:])\n",
        "        print(\"{} day input {}\".format(i,x_input))\n",
        "        x_input=x_input.reshape(1,-1)\n",
        "        x_input = x_input.reshape((1, n_steps, 1))\n",
        "        #print(x_input)\n",
        "        yhat = model.predict(x_input, verbose=0)\n",
        "        print(\"{} day output {}\".format(i,yhat))\n",
        "        temp_input.extend(yhat[0].tolist())\n",
        "        temp_input=temp_input[1:]\n",
        "        #print(temp_input)\n",
        "        lst_output.extend(yhat.tolist())\n",
        "        i=i+1\n",
        "    else:\n",
        "        x_input = x_input.reshape((1, n_steps,1))\n",
        "        yhat = model.predict(x_input, verbose=0)\n",
        "        print(yhat[0])\n",
        "        temp_input.extend(yhat[0].tolist())\n",
        "        print(len(temp_input))\n",
        "        lst_output.extend(yhat.tolist())\n",
        "        i=i+1\n",
        "    \n",
        "\n",
        "print(lst_output)"
      ],
      "metadata": {
        "colab": {
          "base_uri": "https://localhost:8080/"
        },
        "id": "MHs9C10B_XFC",
        "outputId": "1fbf4d19-811b-45c6-b71e-a55437960a3d"
      },
      "execution_count": null,
      "outputs": [
        {
          "output_type": "stream",
          "name": "stdout",
          "text": [
            "[0.13872387]\n",
            "101\n",
            "1 day input [0.14647464 0.16115216 0.17092048 0.16961803 0.181866   0.17257358\n",
            " 0.16904195 0.18149029 0.16385723 0.16105197 0.15757044 0.16568566\n",
            " 0.17232311 0.17392611 0.18407013 0.18146525 0.18169067 0.17873513\n",
            " 0.17715717 0.18827802 0.18249217 0.17051972 0.16320601 0.16363181\n",
            " 0.1636819  0.17092048 0.17204759 0.1636819  0.16588604 0.15769568\n",
            " 0.14875391 0.14444584 0.13918597 0.13720726 0.13259862 0.1323732\n",
            " 0.13119599 0.15902317 0.17016907 0.16974327 0.17282405 0.16546024\n",
            " 0.16418284 0.16235441 0.1702943  0.17392611 0.16350657 0.15479023\n",
            " 0.15539136 0.16518472 0.16458359 0.15539136 0.15143394 0.14396994\n",
            " 0.13332498 0.14001252 0.14529743 0.1459737  0.14116468 0.14958046\n",
            " 0.14875391 0.14108954 0.13139637 0.12673763 0.14053851 0.12944271\n",
            " 0.11994991 0.1096556  0.1208516  0.13212273 0.13470257 0.14311835\n",
            " 0.14662492 0.15524108 0.1587226  0.16839073 0.17001879 0.17222292\n",
            " 0.1806387  0.17765811 0.16974327 0.16899186 0.17933626 0.17087038\n",
            " 0.16278021 0.16355667 0.15842204 0.14755166 0.15233563 0.1591985\n",
            " 0.1463995  0.14584847 0.15168441 0.15125861 0.14922981 0.13763306\n",
            " 0.14036318 0.12513463 0.12455855 0.13872387]\n",
            "1 day output [[0.1362199]]\n",
            "2 day input [0.16115216 0.17092048 0.16961803 0.181866   0.17257358 0.16904195\n",
            " 0.18149029 0.16385723 0.16105197 0.15757044 0.16568566 0.17232311\n",
            " 0.17392611 0.18407013 0.18146525 0.18169067 0.17873513 0.17715717\n",
            " 0.18827802 0.18249217 0.17051972 0.16320601 0.16363181 0.1636819\n",
            " 0.17092048 0.17204759 0.1636819  0.16588604 0.15769568 0.14875391\n",
            " 0.14444584 0.13918597 0.13720726 0.13259862 0.1323732  0.13119599\n",
            " 0.15902317 0.17016907 0.16974327 0.17282405 0.16546024 0.16418284\n",
            " 0.16235441 0.1702943  0.17392611 0.16350657 0.15479023 0.15539136\n",
            " 0.16518472 0.16458359 0.15539136 0.15143394 0.14396994 0.13332498\n",
            " 0.14001252 0.14529743 0.1459737  0.14116468 0.14958046 0.14875391\n",
            " 0.14108954 0.13139637 0.12673763 0.14053851 0.12944271 0.11994991\n",
            " 0.1096556  0.1208516  0.13212273 0.13470257 0.14311835 0.14662492\n",
            " 0.15524108 0.1587226  0.16839073 0.17001879 0.17222292 0.1806387\n",
            " 0.17765811 0.16974327 0.16899186 0.17933626 0.17087038 0.16278021\n",
            " 0.16355667 0.15842204 0.14755166 0.15233563 0.1591985  0.1463995\n",
            " 0.14584847 0.15168441 0.15125861 0.14922981 0.13763306 0.14036318\n",
            " 0.12513463 0.12455855 0.13872387 0.1362199 ]\n",
            "2 day output [[0.1342048]]\n",
            "3 day input [0.17092048 0.16961803 0.181866   0.17257358 0.16904195 0.18149029\n",
            " 0.16385723 0.16105197 0.15757044 0.16568566 0.17232311 0.17392611\n",
            " 0.18407013 0.18146525 0.18169067 0.17873513 0.17715717 0.18827802\n",
            " 0.18249217 0.17051972 0.16320601 0.16363181 0.1636819  0.17092048\n",
            " 0.17204759 0.1636819  0.16588604 0.15769568 0.14875391 0.14444584\n",
            " 0.13918597 0.13720726 0.13259862 0.1323732  0.13119599 0.15902317\n",
            " 0.17016907 0.16974327 0.17282405 0.16546024 0.16418284 0.16235441\n",
            " 0.1702943  0.17392611 0.16350657 0.15479023 0.15539136 0.16518472\n",
            " 0.16458359 0.15539136 0.15143394 0.14396994 0.13332498 0.14001252\n",
            " 0.14529743 0.1459737  0.14116468 0.14958046 0.14875391 0.14108954\n",
            " 0.13139637 0.12673763 0.14053851 0.12944271 0.11994991 0.1096556\n",
            " 0.1208516  0.13212273 0.13470257 0.14311835 0.14662492 0.15524108\n",
            " 0.1587226  0.16839073 0.17001879 0.17222292 0.1806387  0.17765811\n",
            " 0.16974327 0.16899186 0.17933626 0.17087038 0.16278021 0.16355667\n",
            " 0.15842204 0.14755166 0.15233563 0.1591985  0.1463995  0.14584847\n",
            " 0.15168441 0.15125861 0.14922981 0.13763306 0.14036318 0.12513463\n",
            " 0.12455855 0.13872387 0.1362199  0.1342048 ]\n",
            "3 day output [[0.132691]]\n",
            "4 day input [0.16961803 0.181866   0.17257358 0.16904195 0.18149029 0.16385723\n",
            " 0.16105197 0.15757044 0.16568566 0.17232311 0.17392611 0.18407013\n",
            " 0.18146525 0.18169067 0.17873513 0.17715717 0.18827802 0.18249217\n",
            " 0.17051972 0.16320601 0.16363181 0.1636819  0.17092048 0.17204759\n",
            " 0.1636819  0.16588604 0.15769568 0.14875391 0.14444584 0.13918597\n",
            " 0.13720726 0.13259862 0.1323732  0.13119599 0.15902317 0.17016907\n",
            " 0.16974327 0.17282405 0.16546024 0.16418284 0.16235441 0.1702943\n",
            " 0.17392611 0.16350657 0.15479023 0.15539136 0.16518472 0.16458359\n",
            " 0.15539136 0.15143394 0.14396994 0.13332498 0.14001252 0.14529743\n",
            " 0.1459737  0.14116468 0.14958046 0.14875391 0.14108954 0.13139637\n",
            " 0.12673763 0.14053851 0.12944271 0.11994991 0.1096556  0.1208516\n",
            " 0.13212273 0.13470257 0.14311835 0.14662492 0.15524108 0.1587226\n",
            " 0.16839073 0.17001879 0.17222292 0.1806387  0.17765811 0.16974327\n",
            " 0.16899186 0.17933626 0.17087038 0.16278021 0.16355667 0.15842204\n",
            " 0.14755166 0.15233563 0.1591985  0.1463995  0.14584847 0.15168441\n",
            " 0.15125861 0.14922981 0.13763306 0.14036318 0.12513463 0.12455855\n",
            " 0.13872387 0.1362199  0.1342048  0.132691  ]\n",
            "4 day output [[0.13159207]]\n",
            "5 day input [0.181866   0.17257358 0.16904195 0.18149029 0.16385723 0.16105197\n",
            " 0.15757044 0.16568566 0.17232311 0.17392611 0.18407013 0.18146525\n",
            " 0.18169067 0.17873513 0.17715717 0.18827802 0.18249217 0.17051972\n",
            " 0.16320601 0.16363181 0.1636819  0.17092048 0.17204759 0.1636819\n",
            " 0.16588604 0.15769568 0.14875391 0.14444584 0.13918597 0.13720726\n",
            " 0.13259862 0.1323732  0.13119599 0.15902317 0.17016907 0.16974327\n",
            " 0.17282405 0.16546024 0.16418284 0.16235441 0.1702943  0.17392611\n",
            " 0.16350657 0.15479023 0.15539136 0.16518472 0.16458359 0.15539136\n",
            " 0.15143394 0.14396994 0.13332498 0.14001252 0.14529743 0.1459737\n",
            " 0.14116468 0.14958046 0.14875391 0.14108954 0.13139637 0.12673763\n",
            " 0.14053851 0.12944271 0.11994991 0.1096556  0.1208516  0.13212273\n",
            " 0.13470257 0.14311835 0.14662492 0.15524108 0.1587226  0.16839073\n",
            " 0.17001879 0.17222292 0.1806387  0.17765811 0.16974327 0.16899186\n",
            " 0.17933626 0.17087038 0.16278021 0.16355667 0.15842204 0.14755166\n",
            " 0.15233563 0.1591985  0.1463995  0.14584847 0.15168441 0.15125861\n",
            " 0.14922981 0.13763306 0.14036318 0.12513463 0.12455855 0.13872387\n",
            " 0.1362199  0.1342048  0.132691   0.13159207]\n",
            "5 day output [[0.13079798]]\n",
            "6 day input [0.17257358 0.16904195 0.18149029 0.16385723 0.16105197 0.15757044\n",
            " 0.16568566 0.17232311 0.17392611 0.18407013 0.18146525 0.18169067\n",
            " 0.17873513 0.17715717 0.18827802 0.18249217 0.17051972 0.16320601\n",
            " 0.16363181 0.1636819  0.17092048 0.17204759 0.1636819  0.16588604\n",
            " 0.15769568 0.14875391 0.14444584 0.13918597 0.13720726 0.13259862\n",
            " 0.1323732  0.13119599 0.15902317 0.17016907 0.16974327 0.17282405\n",
            " 0.16546024 0.16418284 0.16235441 0.1702943  0.17392611 0.16350657\n",
            " 0.15479023 0.15539136 0.16518472 0.16458359 0.15539136 0.15143394\n",
            " 0.14396994 0.13332498 0.14001252 0.14529743 0.1459737  0.14116468\n",
            " 0.14958046 0.14875391 0.14108954 0.13139637 0.12673763 0.14053851\n",
            " 0.12944271 0.11994991 0.1096556  0.1208516  0.13212273 0.13470257\n",
            " 0.14311835 0.14662492 0.15524108 0.1587226  0.16839073 0.17001879\n",
            " 0.17222292 0.1806387  0.17765811 0.16974327 0.16899186 0.17933626\n",
            " 0.17087038 0.16278021 0.16355667 0.15842204 0.14755166 0.15233563\n",
            " 0.1591985  0.1463995  0.14584847 0.15168441 0.15125861 0.14922981\n",
            " 0.13763306 0.14036318 0.12513463 0.12455855 0.13872387 0.1362199\n",
            " 0.1342048  0.132691   0.13159207 0.13079798]\n",
            "6 day output [[0.13021079]]\n",
            "7 day input [0.16904195 0.18149029 0.16385723 0.16105197 0.15757044 0.16568566\n",
            " 0.17232311 0.17392611 0.18407013 0.18146525 0.18169067 0.17873513\n",
            " 0.17715717 0.18827802 0.18249217 0.17051972 0.16320601 0.16363181\n",
            " 0.1636819  0.17092048 0.17204759 0.1636819  0.16588604 0.15769568\n",
            " 0.14875391 0.14444584 0.13918597 0.13720726 0.13259862 0.1323732\n",
            " 0.13119599 0.15902317 0.17016907 0.16974327 0.17282405 0.16546024\n",
            " 0.16418284 0.16235441 0.1702943  0.17392611 0.16350657 0.15479023\n",
            " 0.15539136 0.16518472 0.16458359 0.15539136 0.15143394 0.14396994\n",
            " 0.13332498 0.14001252 0.14529743 0.1459737  0.14116468 0.14958046\n",
            " 0.14875391 0.14108954 0.13139637 0.12673763 0.14053851 0.12944271\n",
            " 0.11994991 0.1096556  0.1208516  0.13212273 0.13470257 0.14311835\n",
            " 0.14662492 0.15524108 0.1587226  0.16839073 0.17001879 0.17222292\n",
            " 0.1806387  0.17765811 0.16974327 0.16899186 0.17933626 0.17087038\n",
            " 0.16278021 0.16355667 0.15842204 0.14755166 0.15233563 0.1591985\n",
            " 0.1463995  0.14584847 0.15168441 0.15125861 0.14922981 0.13763306\n",
            " 0.14036318 0.12513463 0.12455855 0.13872387 0.1362199  0.1342048\n",
            " 0.132691   0.13159207 0.13079798 0.13021079]\n",
            "7 day output [[0.1297567]]\n",
            "8 day input [0.18149029 0.16385723 0.16105197 0.15757044 0.16568566 0.17232311\n",
            " 0.17392611 0.18407013 0.18146525 0.18169067 0.17873513 0.17715717\n",
            " 0.18827802 0.18249217 0.17051972 0.16320601 0.16363181 0.1636819\n",
            " 0.17092048 0.17204759 0.1636819  0.16588604 0.15769568 0.14875391\n",
            " 0.14444584 0.13918597 0.13720726 0.13259862 0.1323732  0.13119599\n",
            " 0.15902317 0.17016907 0.16974327 0.17282405 0.16546024 0.16418284\n",
            " 0.16235441 0.1702943  0.17392611 0.16350657 0.15479023 0.15539136\n",
            " 0.16518472 0.16458359 0.15539136 0.15143394 0.14396994 0.13332498\n",
            " 0.14001252 0.14529743 0.1459737  0.14116468 0.14958046 0.14875391\n",
            " 0.14108954 0.13139637 0.12673763 0.14053851 0.12944271 0.11994991\n",
            " 0.1096556  0.1208516  0.13212273 0.13470257 0.14311835 0.14662492\n",
            " 0.15524108 0.1587226  0.16839073 0.17001879 0.17222292 0.1806387\n",
            " 0.17765811 0.16974327 0.16899186 0.17933626 0.17087038 0.16278021\n",
            " 0.16355667 0.15842204 0.14755166 0.15233563 0.1591985  0.1463995\n",
            " 0.14584847 0.15168441 0.15125861 0.14922981 0.13763306 0.14036318\n",
            " 0.12513463 0.12455855 0.13872387 0.1362199  0.1342048  0.132691\n",
            " 0.13159207 0.13079798 0.13021079 0.1297567 ]\n",
            "8 day output [[0.12938598]]\n",
            "9 day input [0.16385723 0.16105197 0.15757044 0.16568566 0.17232311 0.17392611\n",
            " 0.18407013 0.18146525 0.18169067 0.17873513 0.17715717 0.18827802\n",
            " 0.18249217 0.17051972 0.16320601 0.16363181 0.1636819  0.17092048\n",
            " 0.17204759 0.1636819  0.16588604 0.15769568 0.14875391 0.14444584\n",
            " 0.13918597 0.13720726 0.13259862 0.1323732  0.13119599 0.15902317\n",
            " 0.17016907 0.16974327 0.17282405 0.16546024 0.16418284 0.16235441\n",
            " 0.1702943  0.17392611 0.16350657 0.15479023 0.15539136 0.16518472\n",
            " 0.16458359 0.15539136 0.15143394 0.14396994 0.13332498 0.14001252\n",
            " 0.14529743 0.1459737  0.14116468 0.14958046 0.14875391 0.14108954\n",
            " 0.13139637 0.12673763 0.14053851 0.12944271 0.11994991 0.1096556\n",
            " 0.1208516  0.13212273 0.13470257 0.14311835 0.14662492 0.15524108\n",
            " 0.1587226  0.16839073 0.17001879 0.17222292 0.1806387  0.17765811\n",
            " 0.16974327 0.16899186 0.17933626 0.17087038 0.16278021 0.16355667\n",
            " 0.15842204 0.14755166 0.15233563 0.1591985  0.1463995  0.14584847\n",
            " 0.15168441 0.15125861 0.14922981 0.13763306 0.14036318 0.12513463\n",
            " 0.12455855 0.13872387 0.1362199  0.1342048  0.132691   0.13159207\n",
            " 0.13079798 0.13021079 0.1297567  0.12938598]\n",
            "9 day output [[0.12906787]]\n",
            "10 day input [0.16105197 0.15757044 0.16568566 0.17232311 0.17392611 0.18407013\n",
            " 0.18146525 0.18169067 0.17873513 0.17715717 0.18827802 0.18249217\n",
            " 0.17051972 0.16320601 0.16363181 0.1636819  0.17092048 0.17204759\n",
            " 0.1636819  0.16588604 0.15769568 0.14875391 0.14444584 0.13918597\n",
            " 0.13720726 0.13259862 0.1323732  0.13119599 0.15902317 0.17016907\n",
            " 0.16974327 0.17282405 0.16546024 0.16418284 0.16235441 0.1702943\n",
            " 0.17392611 0.16350657 0.15479023 0.15539136 0.16518472 0.16458359\n",
            " 0.15539136 0.15143394 0.14396994 0.13332498 0.14001252 0.14529743\n",
            " 0.1459737  0.14116468 0.14958046 0.14875391 0.14108954 0.13139637\n",
            " 0.12673763 0.14053851 0.12944271 0.11994991 0.1096556  0.1208516\n",
            " 0.13212273 0.13470257 0.14311835 0.14662492 0.15524108 0.1587226\n",
            " 0.16839073 0.17001879 0.17222292 0.1806387  0.17765811 0.16974327\n",
            " 0.16899186 0.17933626 0.17087038 0.16278021 0.16355667 0.15842204\n",
            " 0.14755166 0.15233563 0.1591985  0.1463995  0.14584847 0.15168441\n",
            " 0.15125861 0.14922981 0.13763306 0.14036318 0.12513463 0.12455855\n",
            " 0.13872387 0.1362199  0.1342048  0.132691   0.13159207 0.13079798\n",
            " 0.13021079 0.1297567  0.12938598 0.12906787]\n",
            "10 day output [[0.1287845]]\n",
            "11 day input [0.15757044 0.16568566 0.17232311 0.17392611 0.18407013 0.18146525\n",
            " 0.18169067 0.17873513 0.17715717 0.18827802 0.18249217 0.17051972\n",
            " 0.16320601 0.16363181 0.1636819  0.17092048 0.17204759 0.1636819\n",
            " 0.16588604 0.15769568 0.14875391 0.14444584 0.13918597 0.13720726\n",
            " 0.13259862 0.1323732  0.13119599 0.15902317 0.17016907 0.16974327\n",
            " 0.17282405 0.16546024 0.16418284 0.16235441 0.1702943  0.17392611\n",
            " 0.16350657 0.15479023 0.15539136 0.16518472 0.16458359 0.15539136\n",
            " 0.15143394 0.14396994 0.13332498 0.14001252 0.14529743 0.1459737\n",
            " 0.14116468 0.14958046 0.14875391 0.14108954 0.13139637 0.12673763\n",
            " 0.14053851 0.12944271 0.11994991 0.1096556  0.1208516  0.13212273\n",
            " 0.13470257 0.14311835 0.14662492 0.15524108 0.1587226  0.16839073\n",
            " 0.17001879 0.17222292 0.1806387  0.17765811 0.16974327 0.16899186\n",
            " 0.17933626 0.17087038 0.16278021 0.16355667 0.15842204 0.14755166\n",
            " 0.15233563 0.1591985  0.1463995  0.14584847 0.15168441 0.15125861\n",
            " 0.14922981 0.13763306 0.14036318 0.12513463 0.12455855 0.13872387\n",
            " 0.1362199  0.1342048  0.132691   0.13159207 0.13079798 0.13021079\n",
            " 0.1297567  0.12938598 0.12906787 0.12878449]\n",
            "11 day output [[0.12852605]]\n",
            "12 day input [0.16568566 0.17232311 0.17392611 0.18407013 0.18146525 0.18169067\n",
            " 0.17873513 0.17715717 0.18827802 0.18249217 0.17051972 0.16320601\n",
            " 0.16363181 0.1636819  0.17092048 0.17204759 0.1636819  0.16588604\n",
            " 0.15769568 0.14875391 0.14444584 0.13918597 0.13720726 0.13259862\n",
            " 0.1323732  0.13119599 0.15902317 0.17016907 0.16974327 0.17282405\n",
            " 0.16546024 0.16418284 0.16235441 0.1702943  0.17392611 0.16350657\n",
            " 0.15479023 0.15539136 0.16518472 0.16458359 0.15539136 0.15143394\n",
            " 0.14396994 0.13332498 0.14001252 0.14529743 0.1459737  0.14116468\n",
            " 0.14958046 0.14875391 0.14108954 0.13139637 0.12673763 0.14053851\n",
            " 0.12944271 0.11994991 0.1096556  0.1208516  0.13212273 0.13470257\n",
            " 0.14311835 0.14662492 0.15524108 0.1587226  0.16839073 0.17001879\n",
            " 0.17222292 0.1806387  0.17765811 0.16974327 0.16899186 0.17933626\n",
            " 0.17087038 0.16278021 0.16355667 0.15842204 0.14755166 0.15233563\n",
            " 0.1591985  0.1463995  0.14584847 0.15168441 0.15125861 0.14922981\n",
            " 0.13763306 0.14036318 0.12513463 0.12455855 0.13872387 0.1362199\n",
            " 0.1342048  0.132691   0.13159207 0.13079798 0.13021079 0.1297567\n",
            " 0.12938598 0.12906787 0.12878449 0.12852605]\n",
            "12 day output [[0.12828694]]\n",
            "13 day input [0.17232311 0.17392611 0.18407013 0.18146525 0.18169067 0.17873513\n",
            " 0.17715717 0.18827802 0.18249217 0.17051972 0.16320601 0.16363181\n",
            " 0.1636819  0.17092048 0.17204759 0.1636819  0.16588604 0.15769568\n",
            " 0.14875391 0.14444584 0.13918597 0.13720726 0.13259862 0.1323732\n",
            " 0.13119599 0.15902317 0.17016907 0.16974327 0.17282405 0.16546024\n",
            " 0.16418284 0.16235441 0.1702943  0.17392611 0.16350657 0.15479023\n",
            " 0.15539136 0.16518472 0.16458359 0.15539136 0.15143394 0.14396994\n",
            " 0.13332498 0.14001252 0.14529743 0.1459737  0.14116468 0.14958046\n",
            " 0.14875391 0.14108954 0.13139637 0.12673763 0.14053851 0.12944271\n",
            " 0.11994991 0.1096556  0.1208516  0.13212273 0.13470257 0.14311835\n",
            " 0.14662492 0.15524108 0.1587226  0.16839073 0.17001879 0.17222292\n",
            " 0.1806387  0.17765811 0.16974327 0.16899186 0.17933626 0.17087038\n",
            " 0.16278021 0.16355667 0.15842204 0.14755166 0.15233563 0.1591985\n",
            " 0.1463995  0.14584847 0.15168441 0.15125861 0.14922981 0.13763306\n",
            " 0.14036318 0.12513463 0.12455855 0.13872387 0.1362199  0.1342048\n",
            " 0.132691   0.13159207 0.13079798 0.13021079 0.1297567  0.12938598\n",
            " 0.12906787 0.12878449 0.12852605 0.12828694]\n",
            "13 day output [[0.12806389]]\n",
            "14 day input [0.17392611 0.18407013 0.18146525 0.18169067 0.17873513 0.17715717\n",
            " 0.18827802 0.18249217 0.17051972 0.16320601 0.16363181 0.1636819\n",
            " 0.17092048 0.17204759 0.1636819  0.16588604 0.15769568 0.14875391\n",
            " 0.14444584 0.13918597 0.13720726 0.13259862 0.1323732  0.13119599\n",
            " 0.15902317 0.17016907 0.16974327 0.17282405 0.16546024 0.16418284\n",
            " 0.16235441 0.1702943  0.17392611 0.16350657 0.15479023 0.15539136\n",
            " 0.16518472 0.16458359 0.15539136 0.15143394 0.14396994 0.13332498\n",
            " 0.14001252 0.14529743 0.1459737  0.14116468 0.14958046 0.14875391\n",
            " 0.14108954 0.13139637 0.12673763 0.14053851 0.12944271 0.11994991\n",
            " 0.1096556  0.1208516  0.13212273 0.13470257 0.14311835 0.14662492\n",
            " 0.15524108 0.1587226  0.16839073 0.17001879 0.17222292 0.1806387\n",
            " 0.17765811 0.16974327 0.16899186 0.17933626 0.17087038 0.16278021\n",
            " 0.16355667 0.15842204 0.14755166 0.15233563 0.1591985  0.1463995\n",
            " 0.14584847 0.15168441 0.15125861 0.14922981 0.13763306 0.14036318\n",
            " 0.12513463 0.12455855 0.13872387 0.1362199  0.1342048  0.132691\n",
            " 0.13159207 0.13079798 0.13021079 0.1297567  0.12938598 0.12906787\n",
            " 0.12878449 0.12852605 0.12828694 0.12806389]\n",
            "14 day output [[0.12785423]]\n",
            "15 day input [0.18407013 0.18146525 0.18169067 0.17873513 0.17715717 0.18827802\n",
            " 0.18249217 0.17051972 0.16320601 0.16363181 0.1636819  0.17092048\n",
            " 0.17204759 0.1636819  0.16588604 0.15769568 0.14875391 0.14444584\n",
            " 0.13918597 0.13720726 0.13259862 0.1323732  0.13119599 0.15902317\n",
            " 0.17016907 0.16974327 0.17282405 0.16546024 0.16418284 0.16235441\n",
            " 0.1702943  0.17392611 0.16350657 0.15479023 0.15539136 0.16518472\n",
            " 0.16458359 0.15539136 0.15143394 0.14396994 0.13332498 0.14001252\n",
            " 0.14529743 0.1459737  0.14116468 0.14958046 0.14875391 0.14108954\n",
            " 0.13139637 0.12673763 0.14053851 0.12944271 0.11994991 0.1096556\n",
            " 0.1208516  0.13212273 0.13470257 0.14311835 0.14662492 0.15524108\n",
            " 0.1587226  0.16839073 0.17001879 0.17222292 0.1806387  0.17765811\n",
            " 0.16974327 0.16899186 0.17933626 0.17087038 0.16278021 0.16355667\n",
            " 0.15842204 0.14755166 0.15233563 0.1591985  0.1463995  0.14584847\n",
            " 0.15168441 0.15125861 0.14922981 0.13763306 0.14036318 0.12513463\n",
            " 0.12455855 0.13872387 0.1362199  0.1342048  0.132691   0.13159207\n",
            " 0.13079798 0.13021079 0.1297567  0.12938598 0.12906787 0.12878449\n",
            " 0.12852605 0.12828694 0.12806389 0.12785423]\n",
            "15 day output [[0.12765582]]\n",
            "16 day input [0.18146525 0.18169067 0.17873513 0.17715717 0.18827802 0.18249217\n",
            " 0.17051972 0.16320601 0.16363181 0.1636819  0.17092048 0.17204759\n",
            " 0.1636819  0.16588604 0.15769568 0.14875391 0.14444584 0.13918597\n",
            " 0.13720726 0.13259862 0.1323732  0.13119599 0.15902317 0.17016907\n",
            " 0.16974327 0.17282405 0.16546024 0.16418284 0.16235441 0.1702943\n",
            " 0.17392611 0.16350657 0.15479023 0.15539136 0.16518472 0.16458359\n",
            " 0.15539136 0.15143394 0.14396994 0.13332498 0.14001252 0.14529743\n",
            " 0.1459737  0.14116468 0.14958046 0.14875391 0.14108954 0.13139637\n",
            " 0.12673763 0.14053851 0.12944271 0.11994991 0.1096556  0.1208516\n",
            " 0.13212273 0.13470257 0.14311835 0.14662492 0.15524108 0.1587226\n",
            " 0.16839073 0.17001879 0.17222292 0.1806387  0.17765811 0.16974327\n",
            " 0.16899186 0.17933626 0.17087038 0.16278021 0.16355667 0.15842204\n",
            " 0.14755166 0.15233563 0.1591985  0.1463995  0.14584847 0.15168441\n",
            " 0.15125861 0.14922981 0.13763306 0.14036318 0.12513463 0.12455855\n",
            " 0.13872387 0.1362199  0.1342048  0.132691   0.13159207 0.13079798\n",
            " 0.13021079 0.1297567  0.12938598 0.12906787 0.12878449 0.12852605\n",
            " 0.12828694 0.12806389 0.12785423 0.12765582]\n",
            "16 day output [[0.12746651]]\n",
            "17 day input [0.18169067 0.17873513 0.17715717 0.18827802 0.18249217 0.17051972\n",
            " 0.16320601 0.16363181 0.1636819  0.17092048 0.17204759 0.1636819\n",
            " 0.16588604 0.15769568 0.14875391 0.14444584 0.13918597 0.13720726\n",
            " 0.13259862 0.1323732  0.13119599 0.15902317 0.17016907 0.16974327\n",
            " 0.17282405 0.16546024 0.16418284 0.16235441 0.1702943  0.17392611\n",
            " 0.16350657 0.15479023 0.15539136 0.16518472 0.16458359 0.15539136\n",
            " 0.15143394 0.14396994 0.13332498 0.14001252 0.14529743 0.1459737\n",
            " 0.14116468 0.14958046 0.14875391 0.14108954 0.13139637 0.12673763\n",
            " 0.14053851 0.12944271 0.11994991 0.1096556  0.1208516  0.13212273\n",
            " 0.13470257 0.14311835 0.14662492 0.15524108 0.1587226  0.16839073\n",
            " 0.17001879 0.17222292 0.1806387  0.17765811 0.16974327 0.16899186\n",
            " 0.17933626 0.17087038 0.16278021 0.16355667 0.15842204 0.14755166\n",
            " 0.15233563 0.1591985  0.1463995  0.14584847 0.15168441 0.15125861\n",
            " 0.14922981 0.13763306 0.14036318 0.12513463 0.12455855 0.13872387\n",
            " 0.1362199  0.1342048  0.132691   0.13159207 0.13079798 0.13021079\n",
            " 0.1297567  0.12938598 0.12906787 0.12878449 0.12852605 0.12828694\n",
            " 0.12806389 0.12785423 0.12765582 0.12746651]\n",
            "17 day output [[0.12728429]]\n",
            "18 day input [0.17873513 0.17715717 0.18827802 0.18249217 0.17051972 0.16320601\n",
            " 0.16363181 0.1636819  0.17092048 0.17204759 0.1636819  0.16588604\n",
            " 0.15769568 0.14875391 0.14444584 0.13918597 0.13720726 0.13259862\n",
            " 0.1323732  0.13119599 0.15902317 0.17016907 0.16974327 0.17282405\n",
            " 0.16546024 0.16418284 0.16235441 0.1702943  0.17392611 0.16350657\n",
            " 0.15479023 0.15539136 0.16518472 0.16458359 0.15539136 0.15143394\n",
            " 0.14396994 0.13332498 0.14001252 0.14529743 0.1459737  0.14116468\n",
            " 0.14958046 0.14875391 0.14108954 0.13139637 0.12673763 0.14053851\n",
            " 0.12944271 0.11994991 0.1096556  0.1208516  0.13212273 0.13470257\n",
            " 0.14311835 0.14662492 0.15524108 0.1587226  0.16839073 0.17001879\n",
            " 0.17222292 0.1806387  0.17765811 0.16974327 0.16899186 0.17933626\n",
            " 0.17087038 0.16278021 0.16355667 0.15842204 0.14755166 0.15233563\n",
            " 0.1591985  0.1463995  0.14584847 0.15168441 0.15125861 0.14922981\n",
            " 0.13763306 0.14036318 0.12513463 0.12455855 0.13872387 0.1362199\n",
            " 0.1342048  0.132691   0.13159207 0.13079798 0.13021079 0.1297567\n",
            " 0.12938598 0.12906787 0.12878449 0.12852605 0.12828694 0.12806389\n",
            " 0.12785423 0.12765582 0.12746651 0.12728429]\n",
            "18 day output [[0.12710735]]\n",
            "19 day input [0.17715717 0.18827802 0.18249217 0.17051972 0.16320601 0.16363181\n",
            " 0.1636819  0.17092048 0.17204759 0.1636819  0.16588604 0.15769568\n",
            " 0.14875391 0.14444584 0.13918597 0.13720726 0.13259862 0.1323732\n",
            " 0.13119599 0.15902317 0.17016907 0.16974327 0.17282405 0.16546024\n",
            " 0.16418284 0.16235441 0.1702943  0.17392611 0.16350657 0.15479023\n",
            " 0.15539136 0.16518472 0.16458359 0.15539136 0.15143394 0.14396994\n",
            " 0.13332498 0.14001252 0.14529743 0.1459737  0.14116468 0.14958046\n",
            " 0.14875391 0.14108954 0.13139637 0.12673763 0.14053851 0.12944271\n",
            " 0.11994991 0.1096556  0.1208516  0.13212273 0.13470257 0.14311835\n",
            " 0.14662492 0.15524108 0.1587226  0.16839073 0.17001879 0.17222292\n",
            " 0.1806387  0.17765811 0.16974327 0.16899186 0.17933626 0.17087038\n",
            " 0.16278021 0.16355667 0.15842204 0.14755166 0.15233563 0.1591985\n",
            " 0.1463995  0.14584847 0.15168441 0.15125861 0.14922981 0.13763306\n",
            " 0.14036318 0.12513463 0.12455855 0.13872387 0.1362199  0.1342048\n",
            " 0.132691   0.13159207 0.13079798 0.13021079 0.1297567  0.12938598\n",
            " 0.12906787 0.12878449 0.12852605 0.12828694 0.12806389 0.12785423\n",
            " 0.12765582 0.12746651 0.12728429 0.12710735]\n",
            "19 day output [[0.12693395]]\n",
            "20 day input [0.18827802 0.18249217 0.17051972 0.16320601 0.16363181 0.1636819\n",
            " 0.17092048 0.17204759 0.1636819  0.16588604 0.15769568 0.14875391\n",
            " 0.14444584 0.13918597 0.13720726 0.13259862 0.1323732  0.13119599\n",
            " 0.15902317 0.17016907 0.16974327 0.17282405 0.16546024 0.16418284\n",
            " 0.16235441 0.1702943  0.17392611 0.16350657 0.15479023 0.15539136\n",
            " 0.16518472 0.16458359 0.15539136 0.15143394 0.14396994 0.13332498\n",
            " 0.14001252 0.14529743 0.1459737  0.14116468 0.14958046 0.14875391\n",
            " 0.14108954 0.13139637 0.12673763 0.14053851 0.12944271 0.11994991\n",
            " 0.1096556  0.1208516  0.13212273 0.13470257 0.14311835 0.14662492\n",
            " 0.15524108 0.1587226  0.16839073 0.17001879 0.17222292 0.1806387\n",
            " 0.17765811 0.16974327 0.16899186 0.17933626 0.17087038 0.16278021\n",
            " 0.16355667 0.15842204 0.14755166 0.15233563 0.1591985  0.1463995\n",
            " 0.14584847 0.15168441 0.15125861 0.14922981 0.13763306 0.14036318\n",
            " 0.12513463 0.12455855 0.13872387 0.1362199  0.1342048  0.132691\n",
            " 0.13159207 0.13079798 0.13021079 0.1297567  0.12938598 0.12906787\n",
            " 0.12878449 0.12852605 0.12828694 0.12806389 0.12785423 0.12765582\n",
            " 0.12746651 0.12728429 0.12710735 0.12693395]\n",
            "20 day output [[0.12676273]]\n",
            "21 day input [0.18249217 0.17051972 0.16320601 0.16363181 0.1636819  0.17092048\n",
            " 0.17204759 0.1636819  0.16588604 0.15769568 0.14875391 0.14444584\n",
            " 0.13918597 0.13720726 0.13259862 0.1323732  0.13119599 0.15902317\n",
            " 0.17016907 0.16974327 0.17282405 0.16546024 0.16418284 0.16235441\n",
            " 0.1702943  0.17392611 0.16350657 0.15479023 0.15539136 0.16518472\n",
            " 0.16458359 0.15539136 0.15143394 0.14396994 0.13332498 0.14001252\n",
            " 0.14529743 0.1459737  0.14116468 0.14958046 0.14875391 0.14108954\n",
            " 0.13139637 0.12673763 0.14053851 0.12944271 0.11994991 0.1096556\n",
            " 0.1208516  0.13212273 0.13470257 0.14311835 0.14662492 0.15524108\n",
            " 0.1587226  0.16839073 0.17001879 0.17222292 0.1806387  0.17765811\n",
            " 0.16974327 0.16899186 0.17933626 0.17087038 0.16278021 0.16355667\n",
            " 0.15842204 0.14755166 0.15233563 0.1591985  0.1463995  0.14584847\n",
            " 0.15168441 0.15125861 0.14922981 0.13763306 0.14036318 0.12513463\n",
            " 0.12455855 0.13872387 0.1362199  0.1342048  0.132691   0.13159207\n",
            " 0.13079798 0.13021079 0.1297567  0.12938598 0.12906787 0.12878449\n",
            " 0.12852605 0.12828694 0.12806389 0.12785423 0.12765582 0.12746651\n",
            " 0.12728429 0.12710735 0.12693395 0.12676273]\n",
            "21 day output [[0.12659256]]\n",
            "22 day input [0.17051972 0.16320601 0.16363181 0.1636819  0.17092048 0.17204759\n",
            " 0.1636819  0.16588604 0.15769568 0.14875391 0.14444584 0.13918597\n",
            " 0.13720726 0.13259862 0.1323732  0.13119599 0.15902317 0.17016907\n",
            " 0.16974327 0.17282405 0.16546024 0.16418284 0.16235441 0.1702943\n",
            " 0.17392611 0.16350657 0.15479023 0.15539136 0.16518472 0.16458359\n",
            " 0.15539136 0.15143394 0.14396994 0.13332498 0.14001252 0.14529743\n",
            " 0.1459737  0.14116468 0.14958046 0.14875391 0.14108954 0.13139637\n",
            " 0.12673763 0.14053851 0.12944271 0.11994991 0.1096556  0.1208516\n",
            " 0.13212273 0.13470257 0.14311835 0.14662492 0.15524108 0.1587226\n",
            " 0.16839073 0.17001879 0.17222292 0.1806387  0.17765811 0.16974327\n",
            " 0.16899186 0.17933626 0.17087038 0.16278021 0.16355667 0.15842204\n",
            " 0.14755166 0.15233563 0.1591985  0.1463995  0.14584847 0.15168441\n",
            " 0.15125861 0.14922981 0.13763306 0.14036318 0.12513463 0.12455855\n",
            " 0.13872387 0.1362199  0.1342048  0.132691   0.13159207 0.13079798\n",
            " 0.13021079 0.1297567  0.12938598 0.12906787 0.12878449 0.12852605\n",
            " 0.12828694 0.12806389 0.12785423 0.12765582 0.12746651 0.12728429\n",
            " 0.12710735 0.12693395 0.12676273 0.12659256]\n",
            "22 day output [[0.12642248]]\n",
            "23 day input [0.16320601 0.16363181 0.1636819  0.17092048 0.17204759 0.1636819\n",
            " 0.16588604 0.15769568 0.14875391 0.14444584 0.13918597 0.13720726\n",
            " 0.13259862 0.1323732  0.13119599 0.15902317 0.17016907 0.16974327\n",
            " 0.17282405 0.16546024 0.16418284 0.16235441 0.1702943  0.17392611\n",
            " 0.16350657 0.15479023 0.15539136 0.16518472 0.16458359 0.15539136\n",
            " 0.15143394 0.14396994 0.13332498 0.14001252 0.14529743 0.1459737\n",
            " 0.14116468 0.14958046 0.14875391 0.14108954 0.13139637 0.12673763\n",
            " 0.14053851 0.12944271 0.11994991 0.1096556  0.1208516  0.13212273\n",
            " 0.13470257 0.14311835 0.14662492 0.15524108 0.1587226  0.16839073\n",
            " 0.17001879 0.17222292 0.1806387  0.17765811 0.16974327 0.16899186\n",
            " 0.17933626 0.17087038 0.16278021 0.16355667 0.15842204 0.14755166\n",
            " 0.15233563 0.1591985  0.1463995  0.14584847 0.15168441 0.15125861\n",
            " 0.14922981 0.13763306 0.14036318 0.12513463 0.12455855 0.13872387\n",
            " 0.1362199  0.1342048  0.132691   0.13159207 0.13079798 0.13021079\n",
            " 0.1297567  0.12938598 0.12906787 0.12878449 0.12852605 0.12828694\n",
            " 0.12806389 0.12785423 0.12765582 0.12746651 0.12728429 0.12710735\n",
            " 0.12693395 0.12676273 0.12659256 0.12642248]\n",
            "23 day output [[0.1262518]]\n",
            "24 day input [0.16363181 0.1636819  0.17092048 0.17204759 0.1636819  0.16588604\n",
            " 0.15769568 0.14875391 0.14444584 0.13918597 0.13720726 0.13259862\n",
            " 0.1323732  0.13119599 0.15902317 0.17016907 0.16974327 0.17282405\n",
            " 0.16546024 0.16418284 0.16235441 0.1702943  0.17392611 0.16350657\n",
            " 0.15479023 0.15539136 0.16518472 0.16458359 0.15539136 0.15143394\n",
            " 0.14396994 0.13332498 0.14001252 0.14529743 0.1459737  0.14116468\n",
            " 0.14958046 0.14875391 0.14108954 0.13139637 0.12673763 0.14053851\n",
            " 0.12944271 0.11994991 0.1096556  0.1208516  0.13212273 0.13470257\n",
            " 0.14311835 0.14662492 0.15524108 0.1587226  0.16839073 0.17001879\n",
            " 0.17222292 0.1806387  0.17765811 0.16974327 0.16899186 0.17933626\n",
            " 0.17087038 0.16278021 0.16355667 0.15842204 0.14755166 0.15233563\n",
            " 0.1591985  0.1463995  0.14584847 0.15168441 0.15125861 0.14922981\n",
            " 0.13763306 0.14036318 0.12513463 0.12455855 0.13872387 0.1362199\n",
            " 0.1342048  0.132691   0.13159207 0.13079798 0.13021079 0.1297567\n",
            " 0.12938598 0.12906787 0.12878449 0.12852605 0.12828694 0.12806389\n",
            " 0.12785423 0.12765582 0.12746651 0.12728429 0.12710735 0.12693395\n",
            " 0.12676273 0.12659256 0.12642248 0.1262518 ]\n",
            "24 day output [[0.12608008]]\n",
            "25 day input [0.1636819  0.17092048 0.17204759 0.1636819  0.16588604 0.15769568\n",
            " 0.14875391 0.14444584 0.13918597 0.13720726 0.13259862 0.1323732\n",
            " 0.13119599 0.15902317 0.17016907 0.16974327 0.17282405 0.16546024\n",
            " 0.16418284 0.16235441 0.1702943  0.17392611 0.16350657 0.15479023\n",
            " 0.15539136 0.16518472 0.16458359 0.15539136 0.15143394 0.14396994\n",
            " 0.13332498 0.14001252 0.14529743 0.1459737  0.14116468 0.14958046\n",
            " 0.14875391 0.14108954 0.13139637 0.12673763 0.14053851 0.12944271\n",
            " 0.11994991 0.1096556  0.1208516  0.13212273 0.13470257 0.14311835\n",
            " 0.14662492 0.15524108 0.1587226  0.16839073 0.17001879 0.17222292\n",
            " 0.1806387  0.17765811 0.16974327 0.16899186 0.17933626 0.17087038\n",
            " 0.16278021 0.16355667 0.15842204 0.14755166 0.15233563 0.1591985\n",
            " 0.1463995  0.14584847 0.15168441 0.15125861 0.14922981 0.13763306\n",
            " 0.14036318 0.12513463 0.12455855 0.13872387 0.1362199  0.1342048\n",
            " 0.132691   0.13159207 0.13079798 0.13021079 0.1297567  0.12938598\n",
            " 0.12906787 0.12878449 0.12852605 0.12828694 0.12806389 0.12785423\n",
            " 0.12765582 0.12746651 0.12728429 0.12710735 0.12693395 0.12676273\n",
            " 0.12659256 0.12642248 0.1262518  0.12608008]\n",
            "25 day output [[0.12590703]]\n",
            "26 day input [0.17092048 0.17204759 0.1636819  0.16588604 0.15769568 0.14875391\n",
            " 0.14444584 0.13918597 0.13720726 0.13259862 0.1323732  0.13119599\n",
            " 0.15902317 0.17016907 0.16974327 0.17282405 0.16546024 0.16418284\n",
            " 0.16235441 0.1702943  0.17392611 0.16350657 0.15479023 0.15539136\n",
            " 0.16518472 0.16458359 0.15539136 0.15143394 0.14396994 0.13332498\n",
            " 0.14001252 0.14529743 0.1459737  0.14116468 0.14958046 0.14875391\n",
            " 0.14108954 0.13139637 0.12673763 0.14053851 0.12944271 0.11994991\n",
            " 0.1096556  0.1208516  0.13212273 0.13470257 0.14311835 0.14662492\n",
            " 0.15524108 0.1587226  0.16839073 0.17001879 0.17222292 0.1806387\n",
            " 0.17765811 0.16974327 0.16899186 0.17933626 0.17087038 0.16278021\n",
            " 0.16355667 0.15842204 0.14755166 0.15233563 0.1591985  0.1463995\n",
            " 0.14584847 0.15168441 0.15125861 0.14922981 0.13763306 0.14036318\n",
            " 0.12513463 0.12455855 0.13872387 0.1362199  0.1342048  0.132691\n",
            " 0.13159207 0.13079798 0.13021079 0.1297567  0.12938598 0.12906787\n",
            " 0.12878449 0.12852605 0.12828694 0.12806389 0.12785423 0.12765582\n",
            " 0.12746651 0.12728429 0.12710735 0.12693395 0.12676273 0.12659256\n",
            " 0.12642248 0.1262518  0.12608008 0.12590703]\n",
            "26 day output [[0.12573244]]\n",
            "27 day input [0.17204759 0.1636819  0.16588604 0.15769568 0.14875391 0.14444584\n",
            " 0.13918597 0.13720726 0.13259862 0.1323732  0.13119599 0.15902317\n",
            " 0.17016907 0.16974327 0.17282405 0.16546024 0.16418284 0.16235441\n",
            " 0.1702943  0.17392611 0.16350657 0.15479023 0.15539136 0.16518472\n",
            " 0.16458359 0.15539136 0.15143394 0.14396994 0.13332498 0.14001252\n",
            " 0.14529743 0.1459737  0.14116468 0.14958046 0.14875391 0.14108954\n",
            " 0.13139637 0.12673763 0.14053851 0.12944271 0.11994991 0.1096556\n",
            " 0.1208516  0.13212273 0.13470257 0.14311835 0.14662492 0.15524108\n",
            " 0.1587226  0.16839073 0.17001879 0.17222292 0.1806387  0.17765811\n",
            " 0.16974327 0.16899186 0.17933626 0.17087038 0.16278021 0.16355667\n",
            " 0.15842204 0.14755166 0.15233563 0.1591985  0.1463995  0.14584847\n",
            " 0.15168441 0.15125861 0.14922981 0.13763306 0.14036318 0.12513463\n",
            " 0.12455855 0.13872387 0.1362199  0.1342048  0.132691   0.13159207\n",
            " 0.13079798 0.13021079 0.1297567  0.12938598 0.12906787 0.12878449\n",
            " 0.12852605 0.12828694 0.12806389 0.12785423 0.12765582 0.12746651\n",
            " 0.12728429 0.12710735 0.12693395 0.12676273 0.12659256 0.12642248\n",
            " 0.1262518  0.12608008 0.12590703 0.12573244]\n",
            "27 day output [[0.1255563]]\n",
            "28 day input [0.1636819  0.16588604 0.15769568 0.14875391 0.14444584 0.13918597\n",
            " 0.13720726 0.13259862 0.1323732  0.13119599 0.15902317 0.17016907\n",
            " 0.16974327 0.17282405 0.16546024 0.16418284 0.16235441 0.1702943\n",
            " 0.17392611 0.16350657 0.15479023 0.15539136 0.16518472 0.16458359\n",
            " 0.15539136 0.15143394 0.14396994 0.13332498 0.14001252 0.14529743\n",
            " 0.1459737  0.14116468 0.14958046 0.14875391 0.14108954 0.13139637\n",
            " 0.12673763 0.14053851 0.12944271 0.11994991 0.1096556  0.1208516\n",
            " 0.13212273 0.13470257 0.14311835 0.14662492 0.15524108 0.1587226\n",
            " 0.16839073 0.17001879 0.17222292 0.1806387  0.17765811 0.16974327\n",
            " 0.16899186 0.17933626 0.17087038 0.16278021 0.16355667 0.15842204\n",
            " 0.14755166 0.15233563 0.1591985  0.1463995  0.14584847 0.15168441\n",
            " 0.15125861 0.14922981 0.13763306 0.14036318 0.12513463 0.12455855\n",
            " 0.13872387 0.1362199  0.1342048  0.132691   0.13159207 0.13079798\n",
            " 0.13021079 0.1297567  0.12938598 0.12906787 0.12878449 0.12852605\n",
            " 0.12828694 0.12806389 0.12785423 0.12765582 0.12746651 0.12728429\n",
            " 0.12710735 0.12693395 0.12676273 0.12659256 0.12642248 0.1262518\n",
            " 0.12608008 0.12590703 0.12573244 0.12555631]\n",
            "28 day output [[0.12537867]]\n",
            "29 day input [0.16588604 0.15769568 0.14875391 0.14444584 0.13918597 0.13720726\n",
            " 0.13259862 0.1323732  0.13119599 0.15902317 0.17016907 0.16974327\n",
            " 0.17282405 0.16546024 0.16418284 0.16235441 0.1702943  0.17392611\n",
            " 0.16350657 0.15479023 0.15539136 0.16518472 0.16458359 0.15539136\n",
            " 0.15143394 0.14396994 0.13332498 0.14001252 0.14529743 0.1459737\n",
            " 0.14116468 0.14958046 0.14875391 0.14108954 0.13139637 0.12673763\n",
            " 0.14053851 0.12944271 0.11994991 0.1096556  0.1208516  0.13212273\n",
            " 0.13470257 0.14311835 0.14662492 0.15524108 0.1587226  0.16839073\n",
            " 0.17001879 0.17222292 0.1806387  0.17765811 0.16974327 0.16899186\n",
            " 0.17933626 0.17087038 0.16278021 0.16355667 0.15842204 0.14755166\n",
            " 0.15233563 0.1591985  0.1463995  0.14584847 0.15168441 0.15125861\n",
            " 0.14922981 0.13763306 0.14036318 0.12513463 0.12455855 0.13872387\n",
            " 0.1362199  0.1342048  0.132691   0.13159207 0.13079798 0.13021079\n",
            " 0.1297567  0.12938598 0.12906787 0.12878449 0.12852605 0.12828694\n",
            " 0.12806389 0.12785423 0.12765582 0.12746651 0.12728429 0.12710735\n",
            " 0.12693395 0.12676273 0.12659256 0.12642248 0.1262518  0.12608008\n",
            " 0.12590703 0.12573244 0.12555631 0.12537867]\n",
            "29 day output [[0.12519963]]\n",
            "[[0.13872386515140533], [0.13621990382671356], [0.13420480489730835], [0.13269099593162537], [0.1315920650959015], [0.13079798221588135], [0.1302107870578766], [0.12975670397281647], [0.12938597798347473], [0.12906786799430847], [0.12878449261188507], [0.12852604687213898], [0.1282869428396225], [0.1280638873577118], [0.12785422801971436], [0.12765581905841827], [0.12746651470661163], [0.12728428840637207], [0.12710735201835632], [0.12693394720554352], [0.1267627328634262], [0.12659256160259247], [0.1264224797487259], [0.12625180184841156], [0.12608008086681366], [0.1259070336818695], [0.1257324367761612], [0.12555630505084991], [0.12537866830825806], [0.12519963085651398]]\n"
          ]
        }
      ]
    },
    {
      "cell_type": "code",
      "source": [
        "day_new=np.arange(1,101)\n",
        "day_pred=np.arange(101,131)"
      ],
      "metadata": {
        "id": "0dd12l3f_dYZ"
      },
      "execution_count": null,
      "outputs": []
    },
    {
      "cell_type": "code",
      "source": [
        "import matplotlib.pyplot as plt\n",
        "len(df1)"
      ],
      "metadata": {
        "colab": {
          "base_uri": "https://localhost:8080/"
        },
        "id": "KQRoL8bO_nZ9",
        "outputId": "21016046-14d4-4e02-9c2d-5b2091c962fc"
      },
      "execution_count": null,
      "outputs": [
        {
          "output_type": "execute_result",
          "data": {
            "text/plain": [
              "1258"
            ]
          },
          "metadata": {},
          "execution_count": 46
        }
      ]
    },
    {
      "cell_type": "code",
      "source": [
        "plt.plot(day_new,scaler.inverse_transform(df1[1158:]))\n",
        "plt.plot(day_pred,scaler.inverse_transform(lst_output))"
      ],
      "metadata": {
        "colab": {
          "base_uri": "https://localhost:8080/",
          "height": 283
        },
        "id": "lFZYyryP_sBx",
        "outputId": "c61d39bf-e978-46ea-dab5-0496396f00a9"
      },
      "execution_count": null,
      "outputs": [
        {
          "output_type": "execute_result",
          "data": {
            "text/plain": [
              "[<matplotlib.lines.Line2D at 0x7f9cb2c71390>]"
            ]
          },
          "metadata": {},
          "execution_count": 47
        },
        {
          "output_type": "display_data",
          "data": {
            "text/plain": [
              "<Figure size 432x288 with 1 Axes>"
            ],
            "image/png": "[encoded data removed]"
          },
          "metadata": {
            "needs_background": "light"
          }
        }
      ]
    },
    {
      "cell_type": "code",
      "source": [
        "df3=df1.tolist()\n",
        "df3.extend(lst_output)\n",
        "plt.plot(df3[1200:])"
      ],
      "metadata": {
        "colab": {
          "base_uri": "https://localhost:8080/",
          "height": 283
        },
        "id": "yxgcWtzp_uMF",
        "outputId": "a813aa4c-dd3a-487e-e74f-eb8093b95a04"
      },
      "execution_count": null,
      "outputs": [
        {
          "output_type": "execute_result",
          "data": {
            "text/plain": [
              "[<matplotlib.lines.Line2D at 0x7f9cb2c77890>]"
            ]
          },
          "metadata": {},
          "execution_count": 48
        },
        {
          "output_type": "display_data",
          "data": {
            "text/plain": [
              "<Figure size 432x288 with 1 Axes>"
            ],
            "image/png": "[encoded data removed]"
          },
          "metadata": {
            "needs_background": "light"
          }
        }
      ]
    },
    {
      "cell_type": "code",
      "source": [
        "df3=scaler.inverse_transform(df3).tolist()\n",
        "plt.plot(df3)"
      ],
      "metadata": {
        "colab": {
          "base_uri": "https://localhost:8080/",
          "height": 283
        },
        "id": "HY1gw_f5_2iY",
        "outputId": "9ee86f44-0d6f-4b4e-bc48-be4b60cce8ae"
      },
      "execution_count": null,
      "outputs": [
        {
          "output_type": "execute_result",
          "data": {
            "text/plain": [
              "[<matplotlib.lines.Line2D at 0x7f9cb2bdc190>]"
            ]
          },
          "metadata": {},
          "execution_count": 50
        },
        {
          "output_type": "display_data",
          "data": {
            "text/plain": [
              "<Figure size 432x288 with 1 Axes>"
            ],
            "image/png": "[encoded data removed]"
          },
          "metadata": {
            "needs_background": "light"
          }
        }
      ]
    },
    {
      "cell_type": "code",
      "source": [
        ""
      ],
      "metadata": {
        "id": "z-Yk0G-z_8Ov"
      },
      "execution_count": null,
      "outputs": []
    }
  ],
  "metadata": {
    "colab": {
      "name": "stock_market_prediction_LSTM.ipynb",
      "provenance": [],
      "collapsed_sections": [],
      "authorship_tag": "ABX9TyNDEnQ8VFnyGuFR3lnRNIxF",
      "include_colab_link": true
    },
    "kernelspec": {
      "display_name": "Python 3",
      "name": "python3"
    },
    "language_info": {
      "name": "python"
    }
  },
  "nbformat": 4,
  "nbformat_minor": 0
}